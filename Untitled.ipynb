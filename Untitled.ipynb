{
 "cells": [
  {
   "cell_type": "code",
   "execution_count": 1,
   "metadata": {},
   "outputs": [],
   "source": [
    "import json "
   ]
  },
  {
   "cell_type": "code",
   "execution_count": 3,
   "metadata": {},
   "outputs": [],
   "source": [
    "with open('../../Desktop/jsons_1/0.json') as file:\n",
    "    arxiv_0 = json.load(file)"
   ]
  },
  {
   "cell_type": "code",
   "execution_count": 7,
   "metadata": {},
   "outputs": [
    {
     "data": {
      "text/plain": [
       "{'identifier': ['oai:arXiv.org:gr-qc/0602112',\n",
       "  'http://arxiv.org/abs/gr-qc/0602112'],\n",
       " 'datestamp': ['2007-05-23'],\n",
       " 'setSpec': ['physics:gr-qc'],\n",
       " 'title': ['A New Result on the Dynamical Symmetry of Spherical Collapse'],\n",
       " 'creator': ['Chakraborty, Subenoy', 'Banerjee, Asit', 'Debnath, Ujjal'],\n",
       " 'subject': ['General Relativity and Quantum Cosmology'],\n",
       " 'description': ['  A dynamical symmetry for spherical collapse has been studied using a linear\\ntransformation of the initial data set (mass and kinetic energy function) and\\nthe area radius. With proper choice of the initial area radius, the evolution\\nas well as the physical parameters namely energy density and shear remain\\ninvariant both initially and at any time instant. Finally, it is found that the\\nfinal outcome of collapse depends on the initial choice of the area radius.\\n',\n",
       "  'Comment: 6 Latex pages, No figure, ReVTeX style'],\n",
       " 'date': ['2006-02-27'],\n",
       " 'type': ['text']}"
      ]
     },
     "execution_count": 7,
     "metadata": {},
     "output_type": "execute_result"
    }
   ],
   "source": [
    "arxiv_0[50000]"
   ]
  },
  {
   "cell_type": "code",
   "execution_count": 9,
   "metadata": {},
   "outputs": [
    {
     "data": {
      "text/plain": [
       "100000"
      ]
     },
     "execution_count": 9,
     "metadata": {},
     "output_type": "execute_result"
    }
   ],
   "source": [
    "len(arxiv_0)"
   ]
  },
  {
   "cell_type": "code",
   "execution_count": 10,
   "metadata": {},
   "outputs": [],
   "source": [
    "files = !ls ../../Desktop/jsons_1"
   ]
  },
  {
   "cell_type": "code",
   "execution_count": 14,
   "metadata": {},
   "outputs": [],
   "source": [
    "arxiv = []\n",
    "for file in files:\n",
    "    with open(f'../../Desktop/jsons_1/{file}', 'r') as file:\n",
    "        arxiv.extend(json.load(file))"
   ]
  },
  {
   "cell_type": "code",
   "execution_count": 15,
   "metadata": {},
   "outputs": [
    {
     "data": {
      "text/plain": [
       "1300000"
      ]
     },
     "execution_count": 15,
     "metadata": {},
     "output_type": "execute_result"
    }
   ],
   "source": [
    "len(arxiv)"
   ]
  },
  {
   "cell_type": "code",
   "execution_count": 28,
   "metadata": {},
   "outputs": [],
   "source": [
    "titles = {art['title'][0] for art in arxiv if art['title'] }"
   ]
  },
  {
   "cell_type": "code",
   "execution_count": 30,
   "metadata": {},
   "outputs": [
    {
     "data": {
      "text/plain": [
       "1287645"
      ]
     },
     "execution_count": 30,
     "metadata": {},
     "output_type": "execute_result"
    }
   ],
   "source": [
    "len(titles)"
   ]
  },
  {
   "cell_type": "code",
   "execution_count": 25,
   "metadata": {},
   "outputs": [],
   "source": []
  },
  {
   "cell_type": "code",
   "execution_count": null,
   "metadata": {},
   "outputs": [],
   "source": []
  }
 ],
 "metadata": {
  "kernelspec": {
   "display_name": "Python 3",
   "language": "python",
   "name": "python3"
  },
  "language_info": {
   "codemirror_mode": {
    "name": "ipython",
    "version": 3
   },
   "file_extension": ".py",
   "mimetype": "text/x-python",
   "name": "python",
   "nbconvert_exporter": "python",
   "pygments_lexer": "ipython3",
   "version": "3.6.5"
  }
 },
 "nbformat": 4,
 "nbformat_minor": 2
}
