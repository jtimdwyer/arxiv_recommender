{
 "cells": [
  {
   "cell_type": "code",
   "execution_count": 63,
   "metadata": {},
   "outputs": [],
   "source": [
    "import requests\n",
    "import time\n",
    "from bs4 import BeautifulSoup"
   ]
  },
  {
   "cell_type": "code",
   "execution_count": 51,
   "metadata": {},
   "outputs": [],
   "source": [
    "base = 'https://export.arxiv.org/oai2'\n",
    "\n",
    "params = {\n",
    "    'verb': 'ListRecords',\n",
    "    'metadataPrefix': 'arXiv',\n",
    "#     'resumptionToken':None,\n",
    "}\n"
   ]
  },
  {
   "cell_type": "code",
   "execution_count": null,
   "metadata": {},
   "outputs": [],
   "source": [
    "def make_request(base_url, verb, metadataPrefix, resumptionToken=None):\n",
    "    params = {\n",
    "        'verb':verb,\n",
    "        'metadataPrefix':metadataPrefix,\n",
    "    }\n",
    "    if resumptionToken:\n",
    "        params['resumptionToken'] = resumptionToken,\n",
    "\n",
    "    new_request = requests.get(url=base_url, params=params)\n",
    "    \n",
    "    return new_request"
   ]
  },
  {
   "cell_type": "code",
   "execution_count": null,
   "metadata": {},
   "outputs": [],
   "source": []
  },
  {
   "cell_type": "code",
   "execution_count": null,
   "metadata": {},
   "outputs": [],
   "source": [
    "def download_oai_arxiv(base_url, metadataPrefix):\n",
    "    while True:"
   ]
  },
  {
   "cell_type": "code",
   "execution_count": null,
   "metadata": {},
   "outputs": [],
   "source": []
  },
  {
   "cell_type": "code",
   "execution_count": 77,
   "metadata": {},
   "outputs": [],
   "source": [
    "paper = requests.get(url=base, params={'verb':'Identify'})\n"
   ]
  },
  {
   "cell_type": "code",
   "execution_count": 78,
   "metadata": {},
   "outputs": [],
   "source": [
    "paper = requests.get(url=base, params={'verb':'Identify'})\n",
    "\n",
    "paper_ = BeautifulSoup(paper.content, 'lxml-xml')\n",
    "x = paper_.find('resumptionToken')"
   ]
  },
  {
   "cell_type": "code",
   "execution_count": 79,
   "metadata": {},
   "outputs": [],
   "source": []
  },
  {
   "cell_type": "code",
   "execution_count": 80,
   "metadata": {},
   "outputs": [
    {
     "data": {
      "text/plain": [
       "[]"
      ]
     },
     "execution_count": 80,
     "metadata": {},
     "output_type": "execute_result"
    }
   ],
   "source": [
    "paper_.find_all('')"
   ]
  },
  {
   "cell_type": "code",
   "execution_count": 81,
   "metadata": {
    "scrolled": true
   },
   "outputs": [
    {
     "data": {
      "text/plain": [
       "<?xml version=\"1.0\" encoding=\"utf-8\"?>\n",
       "<OAI-PMH xmlns=\"http://www.openarchives.org/OAI/2.0/\" xmlns:xsi=\"http://www.w3.org/2001/XMLSchema-instance\" xsi:schemaLocation=\"http://www.openarchives.org/OAI/2.0/ http://www.openarchives.org/OAI/2.0/OAI-PMH.xsd\">\n",
       "<responseDate>2018-06-17T17:49:18Z</responseDate>\n",
       "<request verb=\"Identify\">http://export.arxiv.org/oai2</request>\n",
       "<Identify>\n",
       "<repositoryName>arXiv</repositoryName>\n",
       "<baseURL>http://export.arxiv.org/oai2</baseURL>\n",
       "<protocolVersion>2.0</protocolVersion>\n",
       "<adminEmail>help@arxiv.org</adminEmail>\n",
       "<earliestDatestamp>2007-05-23</earliestDatestamp>\n",
       "<deletedRecord>persistent</deletedRecord>\n",
       "<granularity>YYYY-MM-DD</granularity>\n",
       "<description>\n",
       "<eprints xsi:schemaLocation=\"http://www.openarchives.org/OAI/1.1/eprints http://www.openarchives.org/OAI/1.1/eprints.xsd\">\n",
       "<content>\n",
       "<text>Author self-archived e-prints</text>\n",
       "</content>\n",
       "<metadataPolicy>\n",
       "<text>Metadata harvesting permitted through OAI interface</text>\n",
       "<URL>http://arxiv.org/help/oa/metadataPolicy</URL>\n",
       "</metadataPolicy>\n",
       "<dataPolicy>\n",
       "<text>Full-content harvesting not permitted (except by special arrangement)</text>\n",
       "<URL>http://arxiv.org/help/oa/dataPolicy</URL>\n",
       "</dataPolicy>\n",
       "<submissionPolicy>\n",
       "<text>Author self-submission preferred, submissions screened for appropriateness.</text>\n",
       "<URL>http://arxiv.org/help/submit</URL>\n",
       "</submissionPolicy>\n",
       "</eprints>\n",
       "</description>\n",
       "<description>\n",
       "<branding xsi:schemaLocation=\"http://www.openarchives.org/OAI/2.0/branding/ http://www.openarchives.org/OAI/2.0/branding.xsd\">\n",
       "<collectionIcon>\n",
       "<url>http://arxiv.org/OAI/arXivLogo.png</url>\n",
       "<link>http://arxiv.org/</link>\n",
       "<title>arXiv e-print archive</title>\n",
       "<width>88</width>\n",
       "<height>31</height>\n",
       "</collectionIcon>\n",
       "<metadataRendering metadataNamespace=\"http://www.openarchives.org/OAI/2.0/oai_dc/\" mimeType=\"text/xsl\">http://arxiv.org/OAI/arXivMetadata.xsl</metadataRendering>\n",
       "</branding>\n",
       "</description>\n",
       "</Identify>\n",
       "</OAI-PMH>"
      ]
     },
     "execution_count": 81,
     "metadata": {},
     "output_type": "execute_result"
    }
   ],
   "source": [
    "paper_"
   ]
  },
  {
   "cell_type": "code",
   "execution_count": null,
   "metadata": {},
   "outputs": [],
   "source": []
  },
  {
   "cell_type": "code",
   "execution_count": null,
   "metadata": {},
   "outputs": [],
   "source": []
  },
  {
   "cell_type": "code",
   "execution_count": null,
   "metadata": {},
   "outputs": [],
   "source": []
  },
  {
   "cell_type": "code",
   "execution_count": null,
   "metadata": {},
   "outputs": [],
   "source": []
  },
  {
   "cell_type": "code",
   "execution_count": 154,
   "metadata": {},
   "outputs": [
    {
     "data": {
      "text/plain": [
       "200"
      ]
     },
     "execution_count": 154,
     "metadata": {},
     "output_type": "execute_result"
    }
   ],
   "source": [
    "base = 'https://export.arxiv.org/oai2'\n",
    "\n",
    "params = {\n",
    "    'verb': 'ListRecords',\n",
    "    'metadataPrefix': 'arXiv',\n",
    "    'from':'2008-06-01',\n",
    "    'until':'2008-08-31',\n",
    "}\n",
    "test = requests.get(base, params)\n",
    "test.status_code"
   ]
  },
  {
   "cell_type": "code",
   "execution_count": 155,
   "metadata": {},
   "outputs": [],
   "source": [
    "test_p = BeautifulSoup(test.text, 'lxml-xml')\n",
    "x = test_p.find('resumptionToken')"
   ]
  },
  {
   "cell_type": "code",
   "execution_count": 156,
   "metadata": {},
   "outputs": [
    {
     "data": {
      "text/plain": [
       "'2752017|1001'"
      ]
     },
     "execution_count": 156,
     "metadata": {},
     "output_type": "execute_result"
    }
   ],
   "source": [
    "x.text"
   ]
  },
  {
   "cell_type": "code",
   "execution_count": 182,
   "metadata": {},
   "outputs": [
    {
     "data": {
      "text/plain": [
       "<resumptionToken completeListSize=\"6246\" cursor=\"0\">2752017|1001</resumptionToken>"
      ]
     },
     "execution_count": 182,
     "metadata": {},
     "output_type": "execute_result"
    }
   ],
   "source": [
    "x"
   ]
  },
  {
   "cell_type": "code",
   "execution_count": null,
   "metadata": {},
   "outputs": [],
   "source": []
  },
  {
   "cell_type": "code",
   "execution_count": null,
   "metadata": {},
   "outputs": [],
   "source": []
  },
  {
   "cell_type": "code",
   "execution_count": null,
   "metadata": {},
   "outputs": [],
   "source": []
  },
  {
   "cell_type": "code",
   "execution_count": null,
   "metadata": {},
   "outputs": [],
   "source": []
  },
  {
   "cell_type": "code",
   "execution_count": null,
   "metadata": {},
   "outputs": [],
   "source": []
  },
  {
   "cell_type": "code",
   "execution_count": 169,
   "metadata": {},
   "outputs": [
    {
     "data": {
      "text/plain": [
       "200"
      ]
     },
     "execution_count": 169,
     "metadata": {},
     "output_type": "execute_result"
    }
   ],
   "source": [
    "base = 'https://export.arxiv.org/oai2'\n",
    "\n",
    "params = {\n",
    "    'verb': 'ListRecords',\n",
    "#     'metadataPrefix': 'arXiv',\n",
    "    'resumptionToken': x.text\n",
    "}\n",
    "test_2 = requests.get(base, params)\n",
    "test_2.status_code"
   ]
  },
  {
   "cell_type": "code",
   "execution_count": 170,
   "metadata": {},
   "outputs": [],
   "source": [
    "test_p_2 = BeautifulSoup(test_2.text, 'lxml-xml')\n",
    "x_2 = test_p_2.find('resumptionToken')"
   ]
  },
  {
   "cell_type": "code",
   "execution_count": 171,
   "metadata": {},
   "outputs": [
    {
     "data": {
      "text/plain": [
       "<resumptionToken completeListSize=\"6246\" cursor=\"1000\">2752017|2001</resumptionToken>"
      ]
     },
     "execution_count": 171,
     "metadata": {},
     "output_type": "execute_result"
    }
   ],
   "source": [
    "x_2"
   ]
  },
  {
   "cell_type": "code",
   "execution_count": null,
   "metadata": {},
   "outputs": [],
   "source": []
  },
  {
   "cell_type": "code",
   "execution_count": null,
   "metadata": {},
   "outputs": [],
   "source": []
  },
  {
   "cell_type": "code",
   "execution_count": null,
   "metadata": {},
   "outputs": [],
   "source": []
  },
  {
   "cell_type": "code",
   "execution_count": null,
   "metadata": {},
   "outputs": [],
   "source": []
  },
  {
   "cell_type": "code",
   "execution_count": 173,
   "metadata": {},
   "outputs": [
    {
     "data": {
      "text/plain": [
       "200"
      ]
     },
     "execution_count": 173,
     "metadata": {},
     "output_type": "execute_result"
    }
   ],
   "source": [
    "base = 'https://export.arxiv.org/oai2'\n",
    "\n",
    "params = {\n",
    "    'verb': 'ListRecords',\n",
    "#     'metadataPrefix': 'arXiv',\n",
    "    'resumptionToken': x_2.text\n",
    "}\n",
    "test_3 = requests.get(base, params)\n",
    "test_3.status_code"
   ]
  },
  {
   "cell_type": "code",
   "execution_count": 174,
   "metadata": {},
   "outputs": [],
   "source": [
    "test_p_3 = BeautifulSoup(test_3.text, 'lxml-xml')\n",
    "x_3 = test_p_3.find('resumptionToken')"
   ]
  },
  {
   "cell_type": "code",
   "execution_count": 175,
   "metadata": {},
   "outputs": [
    {
     "data": {
      "text/plain": [
       "<resumptionToken completeListSize=\"6246\" cursor=\"2000\">2752017|3001</resumptionToken>"
      ]
     },
     "execution_count": 175,
     "metadata": {},
     "output_type": "execute_result"
    }
   ],
   "source": [
    "x_3"
   ]
  },
  {
   "cell_type": "code",
   "execution_count": null,
   "metadata": {},
   "outputs": [],
   "source": []
  },
  {
   "cell_type": "code",
   "execution_count": 176,
   "metadata": {},
   "outputs": [
    {
     "data": {
      "text/plain": [
       "200"
      ]
     },
     "execution_count": 176,
     "metadata": {},
     "output_type": "execute_result"
    }
   ],
   "source": [
    "base = 'https://export.arxiv.org/oai2'\n",
    "\n",
    "params = {\n",
    "    'verb': 'ListRecords',\n",
    "#     'metadataPrefix': 'arXiv',\n",
    "    'resumptionToken': x_3.text\n",
    "}\n",
    "test_4 = requests.get(base, params)\n",
    "test_4.status_code"
   ]
  },
  {
   "cell_type": "code",
   "execution_count": 177,
   "metadata": {},
   "outputs": [],
   "source": [
    "test_p_4 = BeautifulSoup(test_4.text, 'lxml-xml')\n",
    "x_4 = test_p_4.find('resumptionToken')"
   ]
  },
  {
   "cell_type": "code",
   "execution_count": 178,
   "metadata": {},
   "outputs": [
    {
     "data": {
      "text/plain": [
       "<resumptionToken completeListSize=\"6246\" cursor=\"3000\">2752017|4001</resumptionToken>"
      ]
     },
     "execution_count": 178,
     "metadata": {},
     "output_type": "execute_result"
    }
   ],
   "source": [
    "x_4"
   ]
  },
  {
   "cell_type": "code",
   "execution_count": null,
   "metadata": {},
   "outputs": [],
   "source": []
  },
  {
   "cell_type": "code",
   "execution_count": 179,
   "metadata": {},
   "outputs": [
    {
     "data": {
      "text/plain": [
       "<resumptionToken completeListSize=\"6246\" cursor=\"4000\">2752017|5001</resumptionToken>"
      ]
     },
     "execution_count": 179,
     "metadata": {},
     "output_type": "execute_result"
    }
   ],
   "source": [
    "base = 'https://export.arxiv.org/oai2'\n",
    "\n",
    "params = {\n",
    "    'verb': 'ListRecords',\n",
    "#     'metadataPrefix': 'arXiv',\n",
    "    'resumptionToken': x_4.text\n",
    "}\n",
    "test_5 = requests.get(base, params)\n",
    "test_5.status_code\n",
    "\n",
    "test_p_5 = BeautifulSoup(test_5.text, 'lxml-xml')\n",
    "x_5 = test_p_5.find('resumptionToken')\n",
    "x_5"
   ]
  },
  {
   "cell_type": "code",
   "execution_count": null,
   "metadata": {},
   "outputs": [],
   "source": []
  },
  {
   "cell_type": "code",
   "execution_count": 180,
   "metadata": {},
   "outputs": [
    {
     "data": {
      "text/plain": [
       "<resumptionToken completeListSize=\"6246\" cursor=\"5000\">2752017|6001</resumptionToken>"
      ]
     },
     "execution_count": 180,
     "metadata": {},
     "output_type": "execute_result"
    }
   ],
   "source": [
    "base = 'https://export.arxiv.org/oai2'\n",
    "\n",
    "params = {\n",
    "    'verb': 'ListRecords',\n",
    "#     'metadataPrefix': 'arXiv',\n",
    "    'resumptionToken': x_5.text\n",
    "}\n",
    "test_6 = requests.get(base, params)\n",
    "test_6.status_code\n",
    "\n",
    "test_p_6 = BeautifulSoup(test_6.text, 'lxml-xml')\n",
    "x_6 = test_p_6.find('resumptionToken')\n",
    "x_6"
   ]
  },
  {
   "cell_type": "code",
   "execution_count": null,
   "metadata": {},
   "outputs": [],
   "source": []
  },
  {
   "cell_type": "code",
   "execution_count": null,
   "metadata": {},
   "outputs": [],
   "source": []
  },
  {
   "cell_type": "code",
   "execution_count": 181,
   "metadata": {},
   "outputs": [],
   "source": [
    "base = 'https://export.arxiv.org/oai2'\n",
    "\n",
    "params = {\n",
    "    'verb': 'ListRecords',\n",
    "#     'metadataPrefix': 'arXiv',\n",
    "    'resumptionToken': x_6.text\n",
    "}\n",
    "test_7 = requests.get(base, params)\n",
    "test_7.status_code\n",
    "\n",
    "test_p_7 = BeautifulSoup(test_7.text, 'lxml-xml')\n",
    "x_7 = test_p_7.find('resumptionToken')\n",
    "x_7"
   ]
  },
  {
   "cell_type": "code",
   "execution_count": null,
   "metadata": {},
   "outputs": [],
   "source": []
  },
  {
   "cell_type": "code",
   "execution_count": null,
   "metadata": {},
   "outputs": [],
   "source": []
  },
  {
   "cell_type": "code",
   "execution_count": null,
   "metadata": {},
   "outputs": [],
   "source": []
  },
  {
   "cell_type": "code",
   "execution_count": null,
   "metadata": {},
   "outputs": [],
   "source": []
  },
  {
   "cell_type": "code",
   "execution_count": null,
   "metadata": {},
   "outputs": [],
   "source": []
  },
  {
   "cell_type": "code",
   "execution_count": 133,
   "metadata": {
    "scrolled": false
   },
   "outputs": [
    {
     "data": {
      "text/plain": [
       "200"
      ]
     },
     "execution_count": 133,
     "metadata": {},
     "output_type": "execute_result"
    }
   ],
   "source": [
    "base = 'https://export.arxiv.org/oai2'\n",
    "\n",
    "params = {\n",
    "    'verb': 'ListRecords',\n",
    "#     'metadataPrefix': 'arXiv',\n",
    "    'resumptionToken':'2751986|1001'\n",
    "}\n",
    "test_2 = requests.get(url=base, params=params)\n",
    "test_2.status_code"
   ]
  },
  {
   "cell_type": "code",
   "execution_count": 128,
   "metadata": {},
   "outputs": [],
   "source": [
    "paper_2 = BeautifulSoup(test_2.content, 'lxml-xml')\n",
    "x = paper_2.find('resumptionToken')"
   ]
  },
  {
   "cell_type": "code",
   "execution_count": null,
   "metadata": {},
   "outputs": [],
   "source": [
    "paper = requests.get(url=base, params={'verb':'Identify'})\n",
    "\n",
    "paper_ = BeautifulSoup(paper.content, 'lxml-xml')\n",
    "x = paper_.find('resumptionToken')"
   ]
  },
  {
   "cell_type": "code",
   "execution_count": 137,
   "metadata": {},
   "outputs": [],
   "source": [
    "x"
   ]
  },
  {
   "cell_type": "code",
   "execution_count": null,
   "metadata": {},
   "outputs": [],
   "source": []
  }
 ],
 "metadata": {
  "kernelspec": {
   "display_name": "Python 3",
   "language": "python",
   "name": "python3"
  },
  "language_info": {
   "codemirror_mode": {
    "name": "ipython",
    "version": 3
   },
   "file_extension": ".py",
   "mimetype": "text/x-python",
   "name": "python",
   "nbconvert_exporter": "python",
   "pygments_lexer": "ipython3",
   "version": "3.6.5"
  }
 },
 "nbformat": 4,
 "nbformat_minor": 2
}
