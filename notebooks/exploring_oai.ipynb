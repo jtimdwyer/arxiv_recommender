{
 "cells": [
  {
   "cell_type": "code",
   "execution_count": 1,
   "metadata": {},
   "outputs": [],
   "source": [
    "import requests\n",
    "import time\n",
    "import logging\n",
    "import datetime\n",
    "from bs4 import BeautifulSoup\n",
    "\n",
    "#using the lxml library so you'll need that to run this. "
   ]
  },
  {
   "cell_type": "code",
   "execution_count": 2,
   "metadata": {},
   "outputs": [],
   "source": [
    "base_url = 'https://export.arxiv.org/oai2'"
   ]
  },
  {
   "cell_type": "code",
   "execution_count": 3,
   "metadata": {},
   "outputs": [],
   "source": [
    "def timed_request(url, params, wait_time, max_tries):\n",
    "    retry_counter = 0\n",
    "    while retry_counter < max_tries:\n",
    "        req = requests.get(url=url, params=params)\n",
    "    \n",
    "        if req.status_code == 200:\n",
    "            req = BeautifulSoup(req.text, 'lxml-xml')\n",
    "            return req\n",
    "        \n",
    "        else:\n",
    "            time.sleep(wait_time)\n",
    "    \n",
    "    #the only way we'll hit this return is if we actually use all the retries and never succeed, so we should break\n",
    "    return \n"
   ]
  },
  {
   "cell_type": "code",
   "execution_count": 4,
   "metadata": {},
   "outputs": [],
   "source": [
    "def log_before(metadata_prefix=None, resumption_token=None):\n",
    "    if resumption_token:\n",
    "        return f'Time: {str(datetime.datetime.now())}, Resumption Token: {resumption_token}'\n",
    "    else:\n",
    "        return f'Time: {str(datetime.datetime.now())}, No Resumption Token provided, metadataPrefix {metadata_prefix}'\n"
   ]
  },
  {
   "cell_type": "code",
   "execution_count": 5,
   "metadata": {},
   "outputs": [],
   "source": [
    "def save_request(req, number, directory):\n",
    "    req = str(req)\n",
    "    \n",
    "    with open(f'{directory}/{number}.xml', 'w') as file:\n",
    "        file.write(req)\n",
    "        \n",
    "    return number + 1\n",
    "    "
   ]
  },
  {
   "cell_type": "code",
   "execution_count": 6,
   "metadata": {},
   "outputs": [],
   "source": [
    "def copy_oai(base_url, verb, metadata_prefix=None, wait_time=11,\n",
    "             max_tries=10, log_directory='../data/oai_logs', resumption_token=None,\n",
    "             save_directory='../data/xml', requests_max = float('inf')):\n",
    "    \n",
    "    request_num = 0\n",
    "    \n",
    "    if not resumption_token:\n",
    "        log_file = f'{log_directory}/oai.log'\n",
    "        log_str = log_before(metadata_prefix=metadata_prefix)\n",
    "\n",
    "        my_params = {\n",
    "            'verb': verb,\n",
    "            'metadataPrefix': metadata_prefix,\n",
    "        }\n",
    "        \n",
    "        \n",
    "        first_request = timed_request(url=base_url, params=my_params,\n",
    "                                  wait_time=wait_time, max_tries=max_tries)    \n",
    "    \n",
    "        request_num = save_request(first_request, request_num, save_directory)\n",
    "        \n",
    "        \n",
    "        #if we did not pass a resumption token, we need to remove the metadataPrefix info\n",
    "        #after the beginning attempt\n",
    "        del my_params['metadataPrefix']\n",
    "\n",
    "        #whether or not we're resuming, we'll try to find a new resumption token to keep going\n",
    "        my_params['resumptionToken'] = first_request.find('resumptionToken')\n",
    "        \n",
    "        \n",
    "        \n",
    "    else:\n",
    "        log_file = f'{log_directory}/oai_{resumption_token}.log'\n",
    "        my_params = {\n",
    "            'verb': verb,\n",
    "            'resumptionToken': resumption_token,\n",
    "        }\n",
    "        \n",
    "\n",
    "    logging.basicConfig(filename=log_file, level=logging.INFO)\n",
    "\n",
    "    if log_str:\n",
    "        logging.info(log_str)\n",
    "\n",
    "        \n",
    "    while my_params['resumptionToken'] and request_num < requests_max:\n",
    "\n",
    "        my_params['resumptionToken'] = my_params['resumptionToken'].text\n",
    "        \n",
    "        log_str = log_before(resumption_token=my_params['resumptionToken'])\n",
    "        logging.info(log_str)\n",
    "\n",
    "        time.sleep(wait_time)\n",
    "        next_request =  timed_request(url=base_url, params=my_params,\n",
    "                                  wait_time=wait_time, max_tries=max_tries)\n",
    "        \n",
    "\n",
    "        if next_request:\n",
    "            logging.info(f'Request SUCCESSFUL using Resumption Token {my_params[\"resumptionToken\"]}')\n",
    "            request_num = save_request(next_request, request_num, save_directory)\n",
    "\n",
    "        else: \n",
    "            logging.info(f'Request FAILED using Resumption Token {my_params[\"resumptionToken\"]}')\n",
    "        \n",
    "        \n",
    "        #this might be a None if there is no resumption token. That's fine since that's when we want to stop \n",
    "        #our while loop anywyay\n",
    "        my_params['resumptionToken'] = next_request.find('resumptionToken')\n",
    "        \n"
   ]
  },
  {
   "cell_type": "code",
   "execution_count": 7,
   "metadata": {
    "scrolled": true
   },
   "outputs": [],
   "source": [
    "# time.sleep(15)\n",
    "copy_oai(base_url=base_url, verb='ListRecords', metadata_prefix='arXiv')"
   ]
  }
 ],
 "metadata": {
  "kernelspec": {
   "display_name": "Python 3",
   "language": "python",
   "name": "python3"
  },
  "language_info": {
   "codemirror_mode": {
    "name": "ipython",
    "version": 3
   },
   "file_extension": ".py",
   "mimetype": "text/x-python",
   "name": "python",
   "nbconvert_exporter": "python",
   "pygments_lexer": "ipython3",
   "version": "3.6.5"
  }
 },
 "nbformat": 4,
 "nbformat_minor": 2
}
