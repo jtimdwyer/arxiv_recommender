{
 "cells": [
  {
   "cell_type": "markdown",
   "metadata": {},
   "source": [
    "# Update Harvests\n",
    "\n",
    "In this notebook I show the process for updating our collection of __arXiv__ data using the OAI API. \n",
    "\n",
    "In particular we have two main things going on here:\n",
    "1. Acquire new XML files to update our data, we can accomplish this by looking to the most recent update to our data and passing that date along in our API call and get every article since then.\n",
    "1. Process our XML into JSON files, keeping track of exceptional records.\n",
    "\n",
    "To this end we will reuse most of the code from the other two notebooks in this directory but wrap it all in one function that should figure out the date of the most recent call on it's own. We do this by accessing the file `harvest_info.txt` that I manually created with the date of the initial harvest and will update with the most recent harvest date when we run the code in this notebook. \n",
    "\n",
    "\n",
    "So right now the file reads \n",
    "\n",
    ">recent harvest  \n",
    ">18-06-2018\n",
    "\n",
    "and after running an update, say on June 29th 2018 will change it to read\n",
    "\n",
    ">recent harvest  \n",
    ">29-06-2018"
   ]
  },
  {
   "cell_type": "code",
   "execution_count": 1,
   "metadata": {},
   "outputs": [],
   "source": [
    "import requests\n",
    "import time\n",
    "import datetime\n",
    "import re\n",
    "from bs4 import BeautifulSoup\n",
    "\n",
    "#using the lxml library so you'll need that to run this. "
   ]
  },
  {
   "cell_type": "code",
   "execution_count": 2,
   "metadata": {},
   "outputs": [],
   "source": [
    "def timed_request(url, params, wait_time, max_tries):\n",
    "    retry_counter = 0\n",
    "    while retry_counter < max_tries:\n",
    "        req = requests.get(url=url, params=params)\n",
    "    \n",
    "        if req.status_code == 200:\n",
    "            req = BeautifulSoup(req.text, 'lxml-xml')\n",
    "            return req\n",
    "        \n",
    "        else:\n",
    "            retry_counter += 1\n",
    "            time.sleep(wait_time)\n",
    "\n",
    "\n",
    "def save_request(req, number, directory):\n",
    "    req = str(req)\n",
    "    \n",
    "    with open(f'{directory}/{number}.xml', 'w') as file:\n",
    "        file.write(req)\n",
    "        \n",
    "    return number + 1\n",
    "    "
   ]
  },
  {
   "cell_type": "code",
   "execution_count": 11,
   "metadata": {},
   "outputs": [],
   "source": [
    "def first_request(base_url, verb, metadata_prefix, wait_time, max_tries, from_date='2018-06-19'):\n",
    "    params = {\n",
    "        'verb':verb,\n",
    "        'metadataPrefix':metadata_prefix,\n",
    "        'from':from_date,\n",
    "             }\n",
    "    req = timed_request(url=base_url, params=params, wait_time=wait_time, max_tries=max_tries)\n",
    "    return req\n",
    "    "
   ]
  },
  {
   "cell_type": "code",
   "execution_count": 12,
   "metadata": {},
   "outputs": [],
   "source": [
    "def log(message, log_file):\n",
    "    with open(log_file, 'a') as file:\n",
    "        file.write(message)"
   ]
  },
  {
   "cell_type": "code",
   "execution_count": 13,
   "metadata": {},
   "outputs": [],
   "source": [
    "def copy_oai(base_url, verb, metadata_prefix=None, wait_time=10, max_tries=5,\n",
    "             log_directory='../../data/oai_logs', save_directory='../../data/xml',\n",
    "             resumption_token=None, request_num = 0, from_date = '2018-06-19'):\n",
    "    \n",
    "        \n",
    "    log_name = str(datetime.datetime.now())\n",
    "    log_name = re.sub('[^0-9]', '_', log_name)  \n",
    "    log_file = f\"{log_directory}/{log_name}.log\"\n",
    "\n",
    "    if not resumption_token:\n",
    "        \n",
    "        log_str = 'Making first request without resumption token\\n'\n",
    "        log(log_str, log_file)\n",
    "        \n",
    "        first_get = first_request(base_url=base_url, verb=verb, metadata_prefix=metadata_prefix, \n",
    "                                 wait_time=wait_time, max_tries=max_tries, from_date=from_date)\n",
    "\n",
    "\n",
    "        if first_get:\n",
    "            log_str = [f'First request SUCCESSFUL, using resumption tokens going forward.\\n',\n",
    "                       f'Saving current object at {request_num}.xml\\n']\n",
    "            log_str = ''.join(log_str)\n",
    "            log(log_str, log_file)            \n",
    "\n",
    "            request_num = save_request(first_get, request_num, save_directory)\n",
    "            \n",
    "            resumption_token = first_get.find('resumptionToken')\n",
    "        \n",
    "            if not resumption_token:\n",
    "                log_str = 'No resumption token from first request, exiting.\\n'\n",
    "                log(log_str, log_file)            \n",
    "                return\n",
    "            \n",
    "        else:\n",
    "            log_str = 'First request failed, bailing out.\\n'\n",
    "            log(log_str, log_file)            \n",
    "            return\n",
    "    \n",
    "    \n",
    "    my_params = {\n",
    "        'verb': verb,\n",
    "        'resumptionToken': resumption_token\n",
    "    }\n",
    "    \n",
    "    while my_params['resumptionToken']:\n",
    "        \n",
    "        if type(my_params['resumptionToken']) is not str:\n",
    "            my_params['resumptionToken'] = my_params['resumptionToken'].text\n",
    "        \n",
    "        log_str = f'Time: {str(datetime.datetime.now())}, Resumption Token: {my_params[\"resumptionToken\"]}\\n'\n",
    "        log(log_str, log_file)            \n",
    "\n",
    "        time.sleep(wait_time)\n",
    "        next_request =  timed_request(url=base_url, params=my_params,\n",
    "                                  wait_time=wait_time, max_tries=max_tries)\n",
    "        \n",
    "\n",
    "        if next_request:\n",
    "            log_str = [f'Request SUCCESSFUL using Resumption Token {my_params[\"resumptionToken\"]}\\n',\n",
    "                       f'Saving current object at {request_num}.xml\\n']\n",
    "            log_str = ''.join(log_str)\n",
    "            \n",
    "            log(log_str, log_file)\n",
    "            \n",
    "            request_num = save_request(next_request, request_num, save_directory)\n",
    "        else: \n",
    "            log_str = f'Request FAILED using Resumption Token {my_params[\"resumptionToken\"]}\\n'\n",
    "            log(log_str, log_file)            \n",
    "\n",
    "        my_params['resumptionToken'] = next_request.find('resumptionToken')\n"
   ]
  },
  {
   "cell_type": "code",
   "execution_count": 20,
   "metadata": {},
   "outputs": [
    {
     "ename": "SyntaxError",
     "evalue": "invalid syntax (<ipython-input-20-8b184b3066c6>, line 17)",
     "output_type": "error",
     "traceback": [
      "\u001b[0;36m  File \u001b[0;32m\"<ipython-input-20-8b184b3066c6>\"\u001b[0;36m, line \u001b[0;32m17\u001b[0m\n\u001b[0;31m    log_directory=log_directory, save_directory=save_directory, from_date = from_date):\u001b[0m\n\u001b[0m                                                                                       ^\u001b[0m\n\u001b[0;31mSyntaxError\u001b[0m\u001b[0;31m:\u001b[0m invalid syntax\n"
     ]
    }
   ],
   "source": [
    "def update_harvest():\n",
    "    #first to update our information we'll find the date we need to send as a\n",
    "    #from paramaeter and to see where we should save everything\n",
    "    \n",
    "    today = str(datetime.date.today())\n",
    "    \n",
    "    log_directory = f'../../data/oai_logs/{today}'\n",
    "    save_directory = f'../../data/xml/update_harvests/{today}'\n",
    "    \n",
    "    \n",
    "    base_url = 'https://export.arxiv.org/oai2'\n",
    "    verb = 'ListRecords'\n",
    "    metadata_prefix = 'arXiv'\n",
    "    \n",
    "    \n",
    "    copy_oai(base_url=base_url, verb=verb, metadata_prefix=metadata_prefix,\n",
    "             log_directory=log_directory, save_directory=save_directory, from_date = from_date)\n",
    "    "
   ]
  },
  {
   "cell_type": "code",
   "execution_count": null,
   "metadata": {},
   "outputs": [],
   "source": []
  }
 ],
 "metadata": {
  "kernelspec": {
   "display_name": "Python 3",
   "language": "python",
   "name": "python3"
  },
  "language_info": {
   "codemirror_mode": {
    "name": "ipython",
    "version": 3
   },
   "file_extension": ".py",
   "mimetype": "text/x-python",
   "name": "python",
   "nbconvert_exporter": "python",
   "pygments_lexer": "ipython3",
   "version": "3.6.5"
  }
 },
 "nbformat": 4,
 "nbformat_minor": 2
}
