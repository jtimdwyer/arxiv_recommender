{
 "cells": [
  {
   "cell_type": "markdown",
   "metadata": {},
   "source": [
    "# JSON to Flat files\n",
    "\n",
    "JSONs are, to my mind, certainly preferable to the XML we got in the first place, but they're still not quite as flat as we'd like. We are going to take our JSONs and transform then into CSV fils with the following structure\n",
    "\n",
    "```\n",
    "id, created, updated, setSpec, categories, authors, title, abstract\n",
    "0704.0002, 2007-03-30, 2008-12-13, cs math, math.CO cs.CG, IleanaStreinu LouisTheran, Sparsity-certifying Graph Decompositions, We describe a...\n",
    ".\n",
    ".\n",
    ".\n",
    "```\n",
    "\n",
    "Some articles have other information like `jornal-ref`, `comments` but these are not present in any consistent way.\n",
    "\n",
    "\n",
    "There are some real complications here, specifically regarding the `title`, `authors` and `abstract`. \n",
    "\n",
    "1. Author names can come in a variety of formats including, but not limited to\n",
    "    * Tim Dwyer  \n",
    "    * James Tim Dwyer  \n",
    "    * James Timothy Dwyer  \n",
    "    * J. Dwyer  \n",
    "    * J. T. Dwyer  \n",
    "    * Dr. Tim Dwyer\n",
    "    \n",
    "    > This shouldn't be too crazy, I should be able to keep track of this pretty definitively. Record at most three names, first, middle, last.\n",
    "    > Ignore titles, they probably aren't really pertinent and they're certainly not unchanging if they're even present\n",
    "    > Cool!\n",
    "    \n",
    "1. There are complex text features in the text fields inclding:  \n",
    "    * LaTeX snippets in the titles and abstracts\n",
    "    * Non english letters in the various \n",
    "    * Straight up the abstract and or title isn't written in english.\n",
    "    * Maybe the abstract is in english but it's also provded in French\n",
    "    \n",
    "    > I could read a string through and find any `\\'` type substrings and just remove them.   \n",
    "    > This is what I should do, before I \n",
    " \n",
    "    > Something that finds `\\w*\\a*\\'\\a+` or something like that?"
   ]
  },
  {
   "cell_type": "code",
   "execution_count": 1,
   "metadata": {},
   "outputs": [],
   "source": [
    "import json\n",
    "import re\n",
    "import pypandoc"
   ]
  },
  {
   "cell_type": "code",
   "execution_count": 2,
   "metadata": {},
   "outputs": [],
   "source": [
    "with open('../../data/json/initial_harvest_2018_06_21/0.json') as file:\n",
    "    jtmp = json.load(file)['ListRecords']\n",
    "    "
   ]
  },
  {
   "cell_type": "code",
   "execution_count": 3,
   "metadata": {},
   "outputs": [],
   "source": [
    "jtmp_sample = jtmp[143]\n",
    "head, meta  = jtmp_sample['header'], jtmp_sample['metadata']"
   ]
  },
  {
   "cell_type": "code",
   "execution_count": 4,
   "metadata": {
    "scrolled": true
   },
   "outputs": [
    {
     "data": {
      "text/plain": [
       "{'{http://www.openarchives.org/OAI/2.0/}identifier': ['oai:arXiv.org:0704.0144'],\n",
       " '{http://www.openarchives.org/OAI/2.0/}datestamp': ['2009-02-09'],\n",
       " '{http://www.openarchives.org/OAI/2.0/}setSpec': ['physics:astro-ph',\n",
       "  'physics:gr-qc',\n",
       "  'physics:hep-th']}"
      ]
     },
     "execution_count": 4,
     "metadata": {},
     "output_type": "execute_result"
    }
   ],
   "source": [
    "head"
   ]
  },
  {
   "cell_type": "code",
   "execution_count": 5,
   "metadata": {
    "scrolled": false
   },
   "outputs": [
    {
     "data": {
      "text/plain": [
       "{'{http://www.openarchives.org/OAI/2.0/}id': ['0704.0144'],\n",
       " '{http://www.openarchives.org/OAI/2.0/}created': ['2007-04-02'],\n",
       " '{http://www.openarchives.org/OAI/2.0/}updated': ['2007-09-18'],\n",
       " '{http://www.openarchives.org/OAI/2.0/}authors': [{'{http://www.openarchives.org/OAI/2.0/}keyname': 'Podolsky',\n",
       "   '{http://www.openarchives.org/OAI/2.0/}forenames': 'D.'},\n",
       "  {'{http://www.openarchives.org/OAI/2.0/}keyname': 'Enqvist',\n",
       "   '{http://www.openarchives.org/OAI/2.0/}forenames': 'K.'}],\n",
       " '{http://www.openarchives.org/OAI/2.0/}title': ['Eternal inflation and localization on the landscape'],\n",
       " '{http://www.openarchives.org/OAI/2.0/}categories': ['hep-th astro-ph gr-qc'],\n",
       " '{http://www.openarchives.org/OAI/2.0/}comments': ['4 pages; more references added; discussion enlarged'],\n",
       " '{http://www.openarchives.org/OAI/2.0/}report-no': ['HIP-2007-15/TH'],\n",
       " '{http://www.openarchives.org/OAI/2.0/}journal-ref': ['JCAP 0902:007,2009'],\n",
       " '{http://www.openarchives.org/OAI/2.0/}doi': ['10.1088/1475-7516/2009/02/007'],\n",
       " '{http://www.openarchives.org/OAI/2.0/}abstract': ['  We model the essential features of eternal inflation on the landscape of a\\ndense discretuum of vacua by the potential $V(\\\\phi)=V_{0}+\\\\delta V(\\\\phi)$,\\nwhere $|\\\\delta V(\\\\phi)|\\\\ll V_{0}$ is random. We find that the diffusion of the\\ndistribution function $\\\\rho(\\\\phi,t)$ of the inflaton expectation value in\\ndifferent Hubble patches may be suppressed due to the effect analogous to the\\nAnderson localization in disordered quantum systems. At $t \\\\to \\\\infty$ only the\\nlocalized part of the distribution function $\\\\rho (\\\\phi, t)$ survives which\\nleads to dynamical selection principle on the landscape. The probability to\\nmeasure any but a small value of the cosmological constant in a given Hubble\\npatch on the landscape is exponentially suppressed at $t\\\\to \\\\infty$.\\n']}"
      ]
     },
     "execution_count": 5,
     "metadata": {},
     "output_type": "execute_result"
    }
   ],
   "source": [
    "meta"
   ]
  },
  {
   "cell_type": "code",
   "execution_count": 6,
   "metadata": {
    "scrolled": false
   },
   "outputs": [
    {
     "data": {
      "text/plain": [
       "'We model the essential features of eternal inflation on the landscape of a\\ndense discretuum of vacua by the potential $V(\\\\phi)=V_{0}+\\\\delta V(\\\\phi)$,\\nwhere $|\\\\delta V(\\\\phi)|\\\\ll V_{0}$ is random. We find that the diffusion of the\\ndistribution function $\\\\rho(\\\\phi,t)$ of the inflaton expectation value in\\ndifferent Hubble patches may be suppressed due to the effect analogous to the\\nAnderson localization in disordered quantum systems. At $t \\\\to \\\\infty$ only the\\nlocalized part of the distribution function $\\\\rho (\\\\phi, t)$ survives which\\nleads to dynamical selection principle on the landscape. The probability to\\nmeasure any but a small value of the cosmological constant in a given Hubble\\npatch on the landscape is exponentially suppressed at $t\\\\to \\\\infty$.'"
      ]
     },
     "execution_count": 6,
     "metadata": {},
     "output_type": "execute_result"
    }
   ],
   "source": [
    "key_prefix = '{http://www.openarchives.org/OAI/2.0/}'\n",
    "key_type = 'abstract'\n",
    "key = f'{key_prefix}{key_type}'\n",
    "abs_str = meta[key][0].strip()\n",
    "abs_str"
   ]
  },
  {
   "cell_type": "code",
   "execution_count": 260,
   "metadata": {},
   "outputs": [
    {
     "data": {
      "text/plain": [
       "':math:`1+1`\\n'"
      ]
     },
     "execution_count": 260,
     "metadata": {},
     "output_type": "execute_result"
    }
   ],
   "source": [
    "rst_abs = pypandoc.convert_text(r'$1+1$', \n",
    "                                to='rst', format='latex')\n",
    "rst_abs"
   ]
  },
  {
   "cell_type": "code",
   "execution_count": 263,
   "metadata": {},
   "outputs": [
    {
     "data": {
      "text/plain": [
       "':math:`1+1`\\n'"
      ]
     },
     "execution_count": 263,
     "metadata": {},
     "output_type": "execute_result"
    }
   ],
   "source": [
    "rst_abs = pypandoc.convert_text(r'\\(1+1\\)', \n",
    "                                to='rst', format='latex')\n",
    "rst_abs"
   ]
  },
  {
   "cell_type": "code",
   "execution_count": 290,
   "metadata": {},
   "outputs": [],
   "source": [
    "# all the above patterns should be captured with the following regular expression\n",
    "\n",
    "#the purpose of the ? is that we only want to go to next newline. \n",
    "#these mathmodes are not suited for multi line math so the next newlisn character should be the end of the math \n",
    "inline_math = ':math:.*?\\n'\n"
   ]
  },
  {
   "cell_type": "code",
   "execution_count": 291,
   "metadata": {},
   "outputs": [
    {
     "data": {
      "text/plain": [
       "[':math:`1+1`\\n']"
      ]
     },
     "execution_count": 291,
     "metadata": {},
     "output_type": "execute_result"
    }
   ],
   "source": [
    "rst_abs = pypandoc.convert_text(r'$1+1$', \n",
    "                                to='rst', format='latex')\n",
    "p = re.compile(base_tex_regex)\n",
    "\n",
    "p.findall(string=rst_abs)"
   ]
  },
  {
   "cell_type": "code",
   "execution_count": null,
   "metadata": {},
   "outputs": [],
   "source": []
  },
  {
   "cell_type": "code",
   "execution_count": null,
   "metadata": {},
   "outputs": [],
   "source": []
  },
  {
   "cell_type": "code",
   "execution_count": null,
   "metadata": {},
   "outputs": [],
   "source": []
  },
  {
   "cell_type": "code",
   "execution_count": null,
   "metadata": {},
   "outputs": [],
   "source": []
  },
  {
   "cell_type": "code",
   "execution_count": null,
   "metadata": {},
   "outputs": [],
   "source": []
  },
  {
   "cell_type": "code",
   "execution_count": 292,
   "metadata": {},
   "outputs": [
    {
     "data": {
      "text/plain": [
       "'.. math:: 1+1\\n'"
      ]
     },
     "execution_count": 292,
     "metadata": {},
     "output_type": "execute_result"
    }
   ],
   "source": [
    "rst_abs = pypandoc.convert_text(r'$$1+1$$', \n",
    "                                to='rst', format='latex')\n",
    "rst_abs"
   ]
  },
  {
   "cell_type": "code",
   "execution_count": 293,
   "metadata": {
    "scrolled": false
   },
   "outputs": [
    {
     "data": {
      "text/plain": [
       "'.. math:: 1+1\\n'"
      ]
     },
     "execution_count": 293,
     "metadata": {},
     "output_type": "execute_result"
    }
   ],
   "source": [
    "rst_abs = pypandoc.convert_text(r'\\[1+1\\]', \n",
    "                                to='rst', format='latex')\n",
    "rst_abs"
   ]
  },
  {
   "cell_type": "code",
   "execution_count": 294,
   "metadata": {},
   "outputs": [
    {
     "data": {
      "text/plain": [
       "'.. math:: 1+1\\n'"
      ]
     },
     "execution_count": 294,
     "metadata": {},
     "output_type": "execute_result"
    }
   ],
   "source": [
    "rst_abs = pypandoc.convert_text(r'\\begin{equation}1+1\\end{equation}', \n",
    "                                to='rst', format='latex')\n",
    "rst_abs"
   ]
  },
  {
   "cell_type": "code",
   "execution_count": 297,
   "metadata": {},
   "outputs": [
    {
     "data": {
      "text/plain": [
       "['.. math:: 1+1\\n']"
      ]
     },
     "execution_count": 297,
     "metadata": {},
     "output_type": "execute_result"
    }
   ],
   "source": [
    "display_math_mode = '.. math::.*?\\n'\n",
    "\n",
    "rst_abs = pypandoc.convert_text(r'\\begin{equation}1+1\\end{equation}', \n",
    "                                to='rst', format='latex')\n",
    "p = re.compile(display_math_mode)\n",
    "\n",
    "p.findall(string=rst_abs)"
   ]
  },
  {
   "cell_type": "markdown",
   "metadata": {},
   "source": [
    "# multi line"
   ]
  },
  {
   "cell_type": "code",
   "execution_count": 312,
   "metadata": {},
   "outputs": [
    {
     "data": {
      "text/plain": [
       "['.. math::\\n']"
      ]
     },
     "execution_count": 312,
     "metadata": {},
     "output_type": "execute_result"
    }
   ],
   "source": [
    "\n",
    "rst_abs = pypandoc.convert_text(r'\\begin{eqnarray}1+1\\\\ new\\end{eqnarray}', \n",
    "                                to='rst', format='latex')\n",
    "p = re.compile(display_math_mode)\n",
    "\n",
    "p.findall(string=rst_abs)"
   ]
  },
  {
   "cell_type": "code",
   "execution_count": 313,
   "metadata": {},
   "outputs": [
    {
     "data": {
      "text/plain": [
       "'.. math::\\n\\n   \\\\begin{aligned}\\n   1+1\\\\\\\\ new\\\\end{aligned}\\n'"
      ]
     },
     "execution_count": 313,
     "metadata": {},
     "output_type": "execute_result"
    }
   ],
   "source": [
    "rst_abs"
   ]
  },
  {
   "cell_type": "code",
   "execution_count": 418,
   "metadata": {
    "scrolled": true
   },
   "outputs": [
    {
     "data": {
      "text/plain": [
       "['.. math::\\n']"
      ]
     },
     "execution_count": 418,
     "metadata": {},
     "output_type": "execute_result"
    }
   ],
   "source": [
    "rst_abs = pypandoc.convert_text(r'\\begin{align}1+1\\\\ new\\end{align}', \n",
    "                                to='rst', format='latex')\n",
    "p = re.compile(display_math_mode)\n",
    "\n",
    "p.findall(string=rst_abs)"
   ]
  },
  {
   "cell_type": "code",
   "execution_count": 419,
   "metadata": {},
   "outputs": [
    {
     "data": {
      "text/plain": [
       "'.. math::\\n\\n   \\\\begin{aligned}\\n   1+1\\\\\\\\ new\\\\end{aligned}\\n'"
      ]
     },
     "execution_count": 419,
     "metadata": {},
     "output_type": "execute_result"
    }
   ],
   "source": [
    "rst_abs"
   ]
  },
  {
   "cell_type": "markdown",
   "metadata": {},
   "source": [
    "# This took forever!!!!!!!"
   ]
  },
  {
   "cell_type": "code",
   "execution_count": 414,
   "metadata": {
    "scrolled": true
   },
   "outputs": [
    {
     "data": {
      "text/plain": [
       "['.. math::\\n\\n   \\\\begin{aligned}\\n   1+1\\\\\\\\ new\\\\end{aligned}']"
      ]
     },
     "execution_count": 414,
     "metadata": {},
     "output_type": "execute_result"
    }
   ],
   "source": [
    "multi_line_display_math_mode = '.. math::\\n\\n   \\\\\\\\begin{aligned}.*?\\\\\\\\end[{]aligned[}]'\n",
    "p = re.compile(multi_line_display_math_mode, flags=re.DOTALL)\n",
    "p.findall(string=rst_abs)"
   ]
  },
  {
   "cell_type": "code",
   "execution_count": null,
   "metadata": {},
   "outputs": [],
   "source": []
  },
  {
   "cell_type": "code",
   "execution_count": null,
   "metadata": {},
   "outputs": [],
   "source": []
  },
  {
   "cell_type": "code",
   "execution_count": null,
   "metadata": {},
   "outputs": [],
   "source": []
  },
  {
   "cell_type": "code",
   "execution_count": null,
   "metadata": {},
   "outputs": [],
   "source": []
  },
  {
   "cell_type": "code",
   "execution_count": null,
   "metadata": {},
   "outputs": [],
   "source": []
  }
 ],
 "metadata": {
  "kernelspec": {
   "display_name": "Python 3",
   "language": "python",
   "name": "python3"
  },
  "language_info": {
   "codemirror_mode": {
    "name": "ipython",
    "version": 3
   },
   "file_extension": ".py",
   "mimetype": "text/x-python",
   "name": "python",
   "nbconvert_exporter": "python",
   "pygments_lexer": "ipython3",
   "version": "3.6.5"
  }
 },
 "nbformat": 4,
 "nbformat_minor": 2
}
