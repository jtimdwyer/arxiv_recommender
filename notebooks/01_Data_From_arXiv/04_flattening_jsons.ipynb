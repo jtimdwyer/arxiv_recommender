{
 "cells": [
  {
   "cell_type": "markdown",
   "metadata": {},
   "source": [
    "# JSON to Flat files\n",
    "\n",
    "JSONs are, to my mind, certainly preferable to the XML we got in the first place, but they're still not quite as flat as we'd like. We are going to take our JSONs and transform then into CSV fils with the following structure\n",
    "\n",
    "```\n",
    "id, created, updated, setSpec, categories, authors, title, abstract\n",
    "0704.0002, 2007-03-30, 2008-12-13, cs math, math.CO cs.CG, IleanaStreinu LouisTheran, Sparsity-certifying Graph Decompositions, We describe a...\n",
    ".\n",
    ".\n",
    ".\n",
    "```\n",
    "\n",
    "Some articles have other information like `jornal-ref`, `comments` but these are not present in any consistent way.\n",
    "\n",
    "\n",
    "There are some real complications here, specifically regarding the `title`, `authors` and `abstract`. \n",
    "\n",
    "1. Author names can come in a variety of formats including, but not limited to\n",
    "    * Tim Dwyer  \n",
    "    * James Tim Dwyer  \n",
    "    * James Timothy Dwyer  \n",
    "    * J. Dwyer  \n",
    "    * J. T. Dwyer  \n",
    "    * Dr. Tim Dwyer\n",
    "    \n",
    "1. There are complex text features in the text fields inclding:  \n",
    "    * LaTeX snippets in the titles and abstracts\n",
    "    * Non english letters in the various \n",
    "    * Straight up the abstract and or title isn't written in english.\n",
    "    * Maybe the abstract is in english but it's also provded in French\n",
    "    \n",
    "    > I could read a string through and find any `\\'` type substrings and just remove them.   \n",
    "    > This is what I should do, before I \n",
    " \n",
    "    > Something that finds `\\w*\\a*\\'\\a+` or something like that?"
   ]
  },
  {
   "cell_type": "code",
   "execution_count": 336,
   "metadata": {},
   "outputs": [],
   "source": [
    "import json\n",
    "import re"
   ]
  },
  {
   "cell_type": "code",
   "execution_count": 337,
   "metadata": {},
   "outputs": [],
   "source": [
    "with open('../../data/json/initial_harvest_2018_06_21/0.json') as file:\n",
    "    jtmp = json.load(file)['ListRecords']\n",
    "    "
   ]
  },
  {
   "cell_type": "code",
   "execution_count": 630,
   "metadata": {},
   "outputs": [],
   "source": [
    "jtmp_sample = jtmp[2]\n",
    "head, meta  = jtmp_sample['header'], jtmp_sample['metadata']"
   ]
  },
  {
   "cell_type": "code",
   "execution_count": 631,
   "metadata": {
    "scrolled": true
   },
   "outputs": [
    {
     "data": {
      "text/plain": [
       "{'{http://www.openarchives.org/OAI/2.0/}identifier': ['oai:arXiv.org:0704.0003'],\n",
       " '{http://www.openarchives.org/OAI/2.0/}datestamp': ['2008-01-13'],\n",
       " '{http://www.openarchives.org/OAI/2.0/}setSpec': ['physics:physics']}"
      ]
     },
     "execution_count": 631,
     "metadata": {},
     "output_type": "execute_result"
    }
   ],
   "source": [
    "head"
   ]
  },
  {
   "cell_type": "code",
   "execution_count": 632,
   "metadata": {
    "scrolled": false
   },
   "outputs": [
    {
     "data": {
      "text/plain": [
       "{'{http://www.openarchives.org/OAI/2.0/}id': ['0704.0003'],\n",
       " '{http://www.openarchives.org/OAI/2.0/}created': ['2007-04-01'],\n",
       " '{http://www.openarchives.org/OAI/2.0/}updated': ['2008-01-12'],\n",
       " '{http://www.openarchives.org/OAI/2.0/}authors': [{'{http://www.openarchives.org/OAI/2.0/}keyname': 'Pan',\n",
       "   '{http://www.openarchives.org/OAI/2.0/}forenames': 'Hongjun'}],\n",
       " '{http://www.openarchives.org/OAI/2.0/}title': ['The evolution of the Earth-Moon system based on the dark matter field\\n  fluid model'],\n",
       " '{http://www.openarchives.org/OAI/2.0/}categories': ['physics.gen-ph'],\n",
       " '{http://www.openarchives.org/OAI/2.0/}comments': ['23 pages, 3 figures'],\n",
       " '{http://www.openarchives.org/OAI/2.0/}abstract': [\"  The evolution of Earth-Moon system is described by the dark matter field\\nfluid model proposed in the Meeting of Division of Particle and Field 2004,\\nAmerican Physical Society. The current behavior of the Earth-Moon system agrees\\nwith this model very well and the general pattern of the evolution of the\\nMoon-Earth system described by this model agrees with geological and fossil\\nevidence. The closest distance of the Moon to Earth was about 259000 km at 4.5\\nbillion years ago, which is far beyond the Roche's limit. The result suggests\\nthat the tidal friction may not be the primary cause for the evolution of the\\nEarth-Moon system. The average dark matter field fluid constant derived from\\nEarth-Moon system data is 4.39 x 10^(-22) s^(-1)m^(-1). This model predicts\\nthat the Mars's rotation is also slowing with the angular acceleration rate\\nabout -4.38 x 10^(-22) rad s^(-2).\\n\"]}"
      ]
     },
     "execution_count": 632,
     "metadata": {},
     "output_type": "execute_result"
    }
   ],
   "source": [
    "meta"
   ]
  },
  {
   "cell_type": "code",
   "execution_count": 633,
   "metadata": {},
   "outputs": [
    {
     "data": {
      "text/plain": [
       "\"The evolution of Earth-Moon system is described by the dark matter field\\nfluid model proposed in the Meeting of Division of Particle and Field 2004,\\nAmerican Physical Society. The current behavior of the Earth-Moon system agrees\\nwith this model very well and the general pattern of the evolution of the\\nMoon-Earth system described by this model agrees with geological and fossil\\nevidence. The closest distance of the Moon to Earth was about 259000 km at 4.5\\nbillion years ago, which is far beyond the Roche's limit. The result suggests\\nthat the tidal friction may not be the primary cause for the evolution of the\\nEarth-Moon system. The average dark matter field fluid constant derived from\\nEarth-Moon system data is 4.39 x 10^(-22) s^(-1)m^(-1). This model predicts\\nthat the Mars's rotation is also slowing with the angular acceleration rate\\nabout -4.38 x 10^(-22) rad s^(-2).\""
      ]
     },
     "execution_count": 633,
     "metadata": {},
     "output_type": "execute_result"
    }
   ],
   "source": [
    "key_prefix = '{http://www.openarchives.org/OAI/2.0/}'\n",
    "key_type = 'abstract'\n",
    "key = f'{key_prefix}{key_type}'\n",
    "meta[key][0].strip()"
   ]
  },
  {
   "cell_type": "code",
   "execution_count": null,
   "metadata": {},
   "outputs": [],
   "source": []
  },
  {
   "cell_type": "code",
   "execution_count": null,
   "metadata": {},
   "outputs": [],
   "source": []
  },
  {
   "cell_type": "code",
   "execution_count": null,
   "metadata": {},
   "outputs": [],
   "source": []
  },
  {
   "cell_type": "code",
   "execution_count": 627,
   "metadata": {},
   "outputs": [],
   "source": [
    "from tex2py import tex2py\n"
   ]
  },
  {
   "cell_type": "code",
   "execution_count": 628,
   "metadata": {},
   "outputs": [],
   "source": [
    "tex_str = meta[key][0].strip().replace('\\n', ' ')\n",
    "tex_abs = tex2py(tex_str)\n",
    "abs_str = tex_str"
   ]
  },
  {
   "cell_type": "code",
   "execution_count": 629,
   "metadata": {},
   "outputs": [
    {
     "data": {
      "text/plain": [
       "'A fully differential calculation in perturbative quantum chromodynamics is presented for the production of massive photon pairs at hadron colliders. All next-to-leading order perturbative contributions from quark-antiquark, gluon-(anti)quark, and gluon-gluon subprocesses are included, as well as all-orders resummation of initial-state gluon radiation valid at next-to-next-to-leading logarithmic accuracy. The region of phase space is specified in which the calculation is most reliable. Good agreement is demonstrated with data from the Fermilab Tevatron, and predictions are made for more detailed tests with CDF and DO data. Predictions are shown for distributions of diphoton pairs produced at the energy of the Large Hadron Collider (LHC). Distributions of the diphoton pairs from the decay of a Higgs boson are contrasted with those produced from QCD processes at the LHC, showing that enhanced sensitivity to the signal can be obtained with judicious selection of events.'"
      ]
     },
     "execution_count": 629,
     "metadata": {},
     "output_type": "execute_result"
    }
   ],
   "source": [
    "abs_str"
   ]
  },
  {
   "cell_type": "code",
   "execution_count": 634,
   "metadata": {},
   "outputs": [
    {
     "data": {
      "text/plain": [
       "'[\\\\-*+=]+'"
      ]
     },
     "execution_count": 634,
     "metadata": {},
     "output_type": "execute_result"
    }
   ],
   "source": [
    "# LaTeX uses both ' and \" as accent markers, for the acute and umlaut respectively. This makes it a little difficult\n",
    "# to specify a single string that will contain both characters since those are the characters for opening and closing \n",
    "# strings. We can avoid this as shown below.\n",
    "most_accents = '`^\"~=.uvHtcdbk'\n",
    "acute_accent = \"'\"\n",
    "\n",
    "accents = f'{most_accents}{acute_accent}'\n",
    "accent_regex = rf'[a-zA-Z]*\\\\[{accents}][a-zA-Z]+'\n",
    "\n",
    "math_operators = r'[\\-*+=]+'\n",
    "\n",
    "latex_regex_dollar_sign = r'(\\$[^\\$]*\\$)'\n",
    "latex_regex_double_dollar_sign = r'(\\$\\$[^\\$]*\\$\\$)' #need to test this\n",
    "\n",
    "latex_regex_parens = r'(\\([^\\(\\)]*\\))' #this is just picking up parentheses\n",
    "latex_regex_bracket = r'(\\[[^\\$]*\\])' #need to test this\n",
    "\n",
    "latex_regex = rf'{latex_regex_dollar_sign}|{latex_regex_double_dollar_sign}|{latex_regex_parens}|{latex_regex_bracket}'\n",
    "\n",
    "abstract_regex = fr'{math_operators}'\n",
    "\n",
    "abstract_regex\n"
   ]
  },
  {
   "cell_type": "code",
   "execution_count": 616,
   "metadata": {
    "scrolled": true
   },
   "outputs": [
    {
     "data": {
      "text/plain": [
       "['-', '*', '=', '-', '+', '--=', '+']"
      ]
     },
     "execution_count": 616,
     "metadata": {},
     "output_type": "execute_result"
    }
   ],
   "source": [
    "re.findall(abstract_regex, abs_str + 'this is a test  \\HfEE + --= +')"
   ]
  },
  {
   "cell_type": "code",
   "execution_count": 614,
   "metadata": {},
   "outputs": [
    {
     "data": {
      "text/plain": [
       "'We report studies of cyclotron resonance in monolayer graphene. Cyclotron resonance is detected using the photoconductive response of the sample for several different Landau level occupancies. The experiments measure an electron velocity at the K    point of     1.093 x 10  ms  and in addition detect a significant asymmetry between the electron and hole bands, leading to a difference in the electron and hole velocities of 5% by energies of 125 meV away from the Dirac point.this is a test       '"
      ]
     },
     "execution_count": 614,
     "metadata": {},
     "output_type": "execute_result"
    }
   ],
   "source": [
    "re.sub(abstract_regex,  ' ', abs_str + 'this is a test  \\HfEE -- +++')"
   ]
  },
  {
   "cell_type": "markdown",
   "metadata": {},
   "source": [
    "Wait maybe I should actually leave the accent character alone...like `'N\\'eel'` is just that persons name. There's no real issue just keeping that as our string. Yeah okay, that makes sense to me, just leave it alone. "
   ]
  },
  {
   "cell_type": "code",
   "execution_count": null,
   "metadata": {},
   "outputs": [],
   "source": []
  }
 ],
 "metadata": {
  "kernelspec": {
   "display_name": "Python 3",
   "language": "python",
   "name": "python3"
  },
  "language_info": {
   "codemirror_mode": {
    "name": "ipython",
    "version": 3
   },
   "file_extension": ".py",
   "mimetype": "text/x-python",
   "name": "python",
   "nbconvert_exporter": "python",
   "pygments_lexer": "ipython3",
   "version": "3.6.5"
  }
 },
 "nbformat": 4,
 "nbformat_minor": 2
}
