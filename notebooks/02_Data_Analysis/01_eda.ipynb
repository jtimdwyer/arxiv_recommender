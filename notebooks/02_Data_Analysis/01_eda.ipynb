{
 "cells": [
  {
   "cell_type": "markdown",
   "metadata": {},
   "source": [
    "# Cleaning up $\\LaTeX$\n",
    "\n",
    "There's a bit of a mismatch between the tools we're using and the task at hand. The `abstracts` (and the titles) contain $\\LaTeX$ which is not stricly how the NLP tools we're using are "
   ]
  },
  {
   "cell_type": "markdown",
   "metadata": {},
   "source": [
    "### Load the data\n",
    "\n",
    "Process the `abstracts` and `title` with `detex`."
   ]
  },
  {
   "cell_type": "code",
   "execution_count": 1,
   "metadata": {},
   "outputs": [],
   "source": [
    "from sqlalchemy import create_engine, Column, String, Integer, DATE, BOOLEAN\n",
    "from sqlalchemy.orm import sessionmaker\n",
    "\n",
    "from sqlalchemy.ext.declarative import declarative_base\n",
    "from sqlalchemy import func\n",
    "\n",
    "import pandas as pd\n",
    "import numpy as np\n",
    "import json\n",
    "import os\n",
    "import subprocess\n",
    "\n",
    "\n",
    "import pypandoc"
   ]
  },
  {
   "cell_type": "code",
   "execution_count": 2,
   "metadata": {},
   "outputs": [],
   "source": [
    "with open('../../postgres.json') as pg_info:\n",
    "    pg_json = json.load(pg_info)\n",
    "    pg_username = pg_json['pg_username']\n",
    "    pg_password = pg_json['pg_password']\n",
    "    pg_ip = pg_json['pg_ip']\n"
   ]
  },
  {
   "cell_type": "code",
   "execution_count": 3,
   "metadata": {},
   "outputs": [],
   "source": [
    "Base = declarative_base()\n",
    "\n",
    "\n",
    "# the article class is how sqlalchemy ORM \n",
    "# interacts with tables\n",
    "\n",
    "class articles_raw(Base):\n",
    "    __tablename__ = 'arxiv_raw'\n",
    "    \n",
    "    id = Column(String, primary_key=True)\n",
    "    created = Column(DATE)\n",
    "    setspec = Column(String)\n",
    "    title = Column(String)\n",
    "    abstract = Column(String)\n",
    "    \n",
    "class articles_detex(Base):\n",
    "    __tablename__ = 'arxiv_detex'\n",
    "    \n",
    "    id = Column(String, primary_key=True)\n",
    "    created = Column(DATE)\n",
    "    setspec = Column(String)\n",
    "    \n",
    "    title = Column(String)\n",
    "    title_converted = Column(BOOLEAN)\n",
    "    \n",
    "    abstract = Column(String)\n",
    "    abstract_converted = Column(BOOLEAN)\n",
    "    \n",
    "engine = create_engine(f'postgres://{pg_username}:{pg_password}@{pg_ip}:5432')\n",
    "Base.metadata.create_all(engine)\n",
    "\n",
    "\n",
    "# the article class is how sqlalchemy treats the objects of a row\n",
    "class articles_pandoc(Base):\n",
    "    __tablename__ = 'arxiv_pandoc'\n",
    "    \n",
    "    id = Column(String, primary_key=True)\n",
    "    created = Column(DATE)\n",
    "    setspec = Column(String)\n",
    "    \n",
    "    title = Column(String)\n",
    "    title_converted = Column(BOOLEAN)\n",
    "    \n",
    "    abstract = Column(String)\n",
    "    abstract_converted = Column(BOOLEAN)\n",
    "    \n",
    "engine = create_engine(f'postgres://{pg_username}:{pg_password}@{pg_ip}:5432')\n",
    "Base.metadata.create_all(engine)\n"
   ]
  },
  {
   "cell_type": "code",
   "execution_count": 4,
   "metadata": {},
   "outputs": [],
   "source": [
    "def str_fix(str_to_fix, detex_path, use_pandoc=None):\n",
    "    if not use_pandoc:\n",
    "        str_to_fix = bytes(str_to_fix, 'utf-8')\n",
    "        try:\n",
    "            new_str = subprocess.run(detex_path.split(), input=str_to_fix, stdout=subprocess.PIPE) \n",
    "            new_str = new_str.stdout\n",
    "            detexed = True\n",
    "        except:\n",
    "            new_str = str_to_fix\n",
    "            detexed = False\n",
    "\n",
    "        new_str = str(new_str, 'utf-8')\n",
    "        return new_str, detexed\n",
    "    else:\n",
    "        try:\n",
    "            new_str = pypandoc.convert_text(str_to_fix, to='plain', format='latex')\n",
    "            panddoc_bool = True\n",
    "        except:\n",
    "            new_str = str_to_fix\n",
    "            panddoc_bool = False\n",
    "            \n",
    "        return new_str, panddoc_bool\n"
   ]
  },
  {
   "cell_type": "code",
   "execution_count": 5,
   "metadata": {},
   "outputs": [],
   "source": [
    "def change_tex(record, detex_path, use_pandoc, article_class):\n",
    "    processed_article_info = {\n",
    "                'id':record.id,\n",
    "                'created':record.created,\n",
    "                'setspec':record.setspec,\n",
    "                'title':record.title,\n",
    "                'abstract':record.abstract,\n",
    "            }\n",
    "    \n",
    "    \n",
    "    processed_abstract, abstract_bool = str_fix(record.abstract, detex_path, use_pandoc)\n",
    "    processed_title, title_bool = str_fix(record.title, detex_path, use_pandoc)\n",
    "    \n",
    "    processed_article_info['abstract'] = processed_abstract\n",
    "    processed_article_info['abstract_converted'] = abstract_bool\n",
    "    \n",
    "    processed_article_info['title'] = processed_title\n",
    "    processed_article_info['title_converted'] = title_bool\n",
    "    \n",
    "\n",
    "    processed_article = article_class(**processed_article_info)\n",
    "    return processed_article"
   ]
  },
  {
   "cell_type": "code",
   "execution_count": 6,
   "metadata": {},
   "outputs": [],
   "source": [
    "def query_tex(limit_num=None, detex_path='/usr/bin/detex', batch_size=10000,\n",
    "              commit_size=1000, use_pandoc=None, article_class=articles_detex):\n",
    "    \n",
    "    engine = create_engine(f'postgres://{pg_username}:{pg_password}@{pg_ip}:5432')\n",
    "    Session = sessionmaker(engine)\n",
    "\n",
    "    #get a new session into the database\n",
    "    #using one to query and one to commit\n",
    "\n",
    "    # engine = create_engine(f'postgres://{pg_username}:{pg_password}@{pg_ip}:5432', echo=True)\n",
    "    query_session = Session()\n",
    "    commit_session = Session()\n",
    "    \n",
    "    #use the session to query the database\n",
    "    if limit_num:\n",
    "        query = query_session.query(articles_raw).limit(limit_num)\n",
    "\n",
    "    else:\n",
    "        query = query_session.query(articles_raw).yield_per(batch_size)\n",
    "    \n",
    "    new_records = []\n",
    "    \n",
    "    for row_num, record in enumerate(query): \n",
    "        processed_article = change_tex(record, detex_path=detex_path,\n",
    "                                       use_pandoc=use_pandoc, article_class=article_class)\n",
    "        new_records.append(processed_article)\n",
    "        \n",
    "        if row_num % commit_size == 0:\n",
    "            commit_session.add_all(new_records)\n",
    "            commit_session.commit()\n",
    "            new_records = []\n",
    "    \n",
    "    commit_session.add_all(new_records)    \n",
    "    commit_session.commit()\n",
    "    \n",
    "    commit_session.close()\n",
    "    query_session.close()\n",
    "    engine.dispose()\n",
    "        \n",
    "    \n",
    "    return row_num\n",
    "    \n"
   ]
  },
  {
   "cell_type": "markdown",
   "metadata": {},
   "source": [
    "### `detex` everything"
   ]
  },
  {
   "cell_type": "code",
   "execution_count": null,
   "metadata": {},
   "outputs": [],
   "source": [
    "## this is...kind of brittle to be honest. \n",
    "#I could only really get this to work\n",
    "#on a t2.2xlarge in spite of the fact that I\n",
    "#I never actually use all of the memory!\n",
    "\n",
    "row_nums = query_tex()"
   ]
  },
  {
   "cell_type": "markdown",
   "metadata": {},
   "source": [
    "### `pandoc` everything"
   ]
  },
  {
   "cell_type": "code",
   "execution_count": null,
   "metadata": {},
   "outputs": [],
   "source": [
    "#now try to convert everythign with \n",
    "#pandoc, record failures\n",
    "\n",
    "row_nums = query_tex(use_pandoc=True, article_class=articles_pandoc)"
   ]
  }
 ],
 "metadata": {
  "kernelspec": {
   "display_name": "Python 3",
   "language": "python",
   "name": "python3"
  },
  "language_info": {
   "codemirror_mode": {
    "name": "ipython",
    "version": 3
   },
   "file_extension": ".py",
   "mimetype": "text/x-python",
   "name": "python",
   "nbconvert_exporter": "python",
   "pygments_lexer": "ipython3",
   "version": "3.6.5"
  }
 },
 "nbformat": 4,
 "nbformat_minor": 2
}
