{
 "cells": [
  {
   "cell_type": "markdown",
   "metadata": {},
   "source": [
    "# Exploratory Data Analysis\n",
    "\n",
    "blah blah blah"
   ]
  },
  {
   "cell_type": "markdown",
   "metadata": {},
   "source": [
    "### Load the data"
   ]
  },
  {
   "cell_type": "code",
   "execution_count": 1,
   "metadata": {},
   "outputs": [],
   "source": [
    "from sqlalchemy import create_engine, Column, String, Integer, DATE\n",
    "from sqlalchemy.orm import sessionmaker\n",
    "\n",
    "from sqlalchemy.ext.declarative import declarative_base\n",
    "from sqlalchemy import func\n",
    "\n",
    "\n",
    "from itertools import product\n",
    "from collections import defaultdict\n",
    "\n",
    "import pandas as pd\n",
    "import numpy as np\n",
    "import json\n",
    "\n",
    "import spacy\n",
    "\n",
    "import sys"
   ]
  },
  {
   "cell_type": "code",
   "execution_count": 2,
   "metadata": {},
   "outputs": [],
   "source": [
    "with open('../../postgres.json') as pg_info:\n",
    "    pg_json = json.load(pg_info)\n",
    "    pg_username = pg_json['pg_username']\n",
    "    pg_password = pg_json['pg_password']\n",
    "    pg_ip = pg_json['pg_ip']\n",
    "\n",
    "engine = create_engine(f'postgres://{pg_username}:{pg_password}@{pg_ip}:5432')"
   ]
  },
  {
   "cell_type": "code",
   "execution_count": 3,
   "metadata": {},
   "outputs": [],
   "source": [
    "Base = declarative_base()\n",
    "\n",
    "# the article class is how sqlalchemy treats the objects of a row\n",
    "class Articles(Base):\n",
    "    __tablename__ = 'arxiv_raw'\n",
    "    \n",
    "    id = Column(String, primary_key=True)\n",
    "    created = Column(DATE)\n",
    "    setspec = Column(String)\n",
    "    title = Column(String)\n",
    "    abstract = Column(String)\n",
    "    \n",
    "Session = sessionmaker(bind=engine)\n"
   ]
  },
  {
   "cell_type": "code",
   "execution_count": 4,
   "metadata": {},
   "outputs": [],
   "source": [
    "#get a new session into the database\n",
    "session = Session()\n",
    "\n",
    "#use the session to query the database\n",
    "query = session.query(Articles)\n"
   ]
  },
  {
   "cell_type": "code",
   "execution_count": 37,
   "metadata": {},
   "outputs": [],
   "source": [
    "from sqlalchemy.sql.expression import func\n",
    "    \n",
    "\n",
    "query = session.query(Articles).limit(10)"
   ]
  },
  {
   "cell_type": "code",
   "execution_count": 38,
   "metadata": {},
   "outputs": [],
   "source": [
    "df = pd.read_sql(query.statement, query.session.bind)"
   ]
  },
  {
   "cell_type": "code",
   "execution_count": 39,
   "metadata": {},
   "outputs": [
    {
     "data": {
      "text/html": [
       "<div>\n",
       "<style scoped>\n",
       "    .dataframe tbody tr th:only-of-type {\n",
       "        vertical-align: middle;\n",
       "    }\n",
       "\n",
       "    .dataframe tbody tr th {\n",
       "        vertical-align: top;\n",
       "    }\n",
       "\n",
       "    .dataframe thead th {\n",
       "        text-align: right;\n",
       "    }\n",
       "</style>\n",
       "<table border=\"1\" class=\"dataframe\">\n",
       "  <thead>\n",
       "    <tr style=\"text-align: right;\">\n",
       "      <th></th>\n",
       "      <th>id</th>\n",
       "      <th>created</th>\n",
       "      <th>setspec</th>\n",
       "      <th>title</th>\n",
       "      <th>abstract</th>\n",
       "    </tr>\n",
       "  </thead>\n",
       "  <tbody>\n",
       "    <tr>\n",
       "      <th>0</th>\n",
       "      <td>1707.06238</td>\n",
       "      <td>2017-07-19</td>\n",
       "      <td>physics:astro-ph</td>\n",
       "      <td>Orbiting a binary: SPHERE characterisation of ...</td>\n",
       "      <td>In this paper we present the results of the ...</td>\n",
       "    </tr>\n",
       "    <tr>\n",
       "      <th>1</th>\n",
       "      <td>1707.06239</td>\n",
       "      <td>2017-07-19</td>\n",
       "      <td>physics:astro-ph</td>\n",
       "      <td>An astrometric search method for individually ...</td>\n",
       "      <td>Gravitational waves (GWs) cause the apparent...</td>\n",
       "    </tr>\n",
       "    <tr>\n",
       "      <th>2</th>\n",
       "      <td>1707.06240</td>\n",
       "      <td>2017-07-19</td>\n",
       "      <td>math</td>\n",
       "      <td>Second-order Bounds of Gaussian Kernel-based F...</td>\n",
       "      <td>Guaranteeing stability of a designed control...</td>\n",
       "    </tr>\n",
       "    <tr>\n",
       "      <th>3</th>\n",
       "      <td>1707.06241</td>\n",
       "      <td>2017-07-19</td>\n",
       "      <td>physics:astro-ph</td>\n",
       "      <td>MUSE sneaks a peek at extreme ram-pressure eve...</td>\n",
       "      <td>We present the MUSE observations of UGC 6697...</td>\n",
       "    </tr>\n",
       "    <tr>\n",
       "      <th>4</th>\n",
       "      <td>1707.06242</td>\n",
       "      <td>2017-07-19</td>\n",
       "      <td>physics:hep-th</td>\n",
       "      <td>Green-Schwarz Automorphisms and 6D SCFTs</td>\n",
       "      <td>All known interacting 6D superconformal fiel...</td>\n",
       "    </tr>\n",
       "    <tr>\n",
       "      <th>5</th>\n",
       "      <td>1707.06243</td>\n",
       "      <td>2017-07-19</td>\n",
       "      <td>math</td>\n",
       "      <td>Rigorous free fermion entanglement renormaliza...</td>\n",
       "      <td>We construct entanglement renormalization sc...</td>\n",
       "    </tr>\n",
       "    <tr>\n",
       "      <th>6</th>\n",
       "      <td>math/9302204</td>\n",
       "      <td>1993-02-02</td>\n",
       "      <td>math</td>\n",
       "      <td>The Complete Continuity Property and Finite Di...</td>\n",
       "      <td>A Banach space $\\X$ has the complete continu...</td>\n",
       "    </tr>\n",
       "    <tr>\n",
       "      <th>7</th>\n",
       "      <td>1707.06245</td>\n",
       "      <td>2017-07-19</td>\n",
       "      <td>physics:hep-th</td>\n",
       "      <td>Tweaking one-loop determinants in AdS$_3$</td>\n",
       "      <td>We revisit the subject of one-loop determina...</td>\n",
       "    </tr>\n",
       "    <tr>\n",
       "      <th>8</th>\n",
       "      <td>1707.06246</td>\n",
       "      <td>2017-07-19</td>\n",
       "      <td>physics:astro-ph</td>\n",
       "      <td>Extremal Kerr-Newman black holes with extremel...</td>\n",
       "      <td>The recently proved `no short hair' theorem ...</td>\n",
       "    </tr>\n",
       "    <tr>\n",
       "      <th>9</th>\n",
       "      <td>1707.06247</td>\n",
       "      <td>2017-07-19</td>\n",
       "      <td>cs</td>\n",
       "      <td>On the Economics of Ransomware</td>\n",
       "      <td>While recognized as a theoretical and practi...</td>\n",
       "    </tr>\n",
       "  </tbody>\n",
       "</table>\n",
       "</div>"
      ],
      "text/plain": [
       "             id     created           setspec  \\\n",
       "0    1707.06238  2017-07-19  physics:astro-ph   \n",
       "1    1707.06239  2017-07-19  physics:astro-ph   \n",
       "2    1707.06240  2017-07-19              math   \n",
       "3    1707.06241  2017-07-19  physics:astro-ph   \n",
       "4    1707.06242  2017-07-19    physics:hep-th   \n",
       "5    1707.06243  2017-07-19              math   \n",
       "6  math/9302204  1993-02-02              math   \n",
       "7    1707.06245  2017-07-19    physics:hep-th   \n",
       "8    1707.06246  2017-07-19  physics:astro-ph   \n",
       "9    1707.06247  2017-07-19                cs   \n",
       "\n",
       "                                               title  \\\n",
       "0  Orbiting a binary: SPHERE characterisation of ...   \n",
       "1  An astrometric search method for individually ...   \n",
       "2  Second-order Bounds of Gaussian Kernel-based F...   \n",
       "3  MUSE sneaks a peek at extreme ram-pressure eve...   \n",
       "4           Green-Schwarz Automorphisms and 6D SCFTs   \n",
       "5  Rigorous free fermion entanglement renormaliza...   \n",
       "6  The Complete Continuity Property and Finite Di...   \n",
       "7          Tweaking one-loop determinants in AdS$_3$   \n",
       "8  Extremal Kerr-Newman black holes with extremel...   \n",
       "9                     On the Economics of Ransomware   \n",
       "\n",
       "                                            abstract  \n",
       "0    In this paper we present the results of the ...  \n",
       "1    Gravitational waves (GWs) cause the apparent...  \n",
       "2    Guaranteeing stability of a designed control...  \n",
       "3    We present the MUSE observations of UGC 6697...  \n",
       "4    All known interacting 6D superconformal fiel...  \n",
       "5    We construct entanglement renormalization sc...  \n",
       "6    A Banach space $\\X$ has the complete continu...  \n",
       "7    We revisit the subject of one-loop determina...  \n",
       "8    The recently proved `no short hair' theorem ...  \n",
       "9    While recognized as a theoretical and practi...  "
      ]
     },
     "execution_count": 39,
     "metadata": {},
     "output_type": "execute_result"
    }
   ],
   "source": [
    "df"
   ]
  },
  {
   "cell_type": "code",
   "execution_count": null,
   "metadata": {},
   "outputs": [],
   "source": []
  },
  {
   "cell_type": "code",
   "execution_count": 99,
   "metadata": {},
   "outputs": [
    {
     "name": "stdout",
     "output_type": "stream",
     "text": [
      "CPU times: user 13.4 s, sys: 29 s, total: 42.4 s\n",
      "Wall time: 4min 20s\n"
     ]
    }
   ],
   "source": [
    "#read the query into a dataframe\n",
    "%time df = pd.read_sql(query.statement, query.session.connection())"
   ]
  },
  {
   "cell_type": "code",
   "execution_count": 100,
   "metadata": {
    "scrolled": true
   },
   "outputs": [
    {
     "data": {
      "text/plain": [
       "(1407628, 5)"
      ]
     },
     "execution_count": 100,
     "metadata": {},
     "output_type": "execute_result"
    }
   ],
   "source": [
    "df.shape"
   ]
  },
  {
   "cell_type": "code",
   "execution_count": 101,
   "metadata": {},
   "outputs": [
    {
     "data": {
      "text/plain": [
       "str"
      ]
     },
     "execution_count": 101,
     "metadata": {},
     "output_type": "execute_result"
    }
   ],
   "source": [
    "type(df.title[0])"
   ]
  },
  {
   "cell_type": "code",
   "execution_count": null,
   "metadata": {},
   "outputs": [],
   "source": []
  },
  {
   "cell_type": "code",
   "execution_count": null,
   "metadata": {},
   "outputs": [],
   "source": []
  },
  {
   "cell_type": "code",
   "execution_count": null,
   "metadata": {},
   "outputs": [],
   "source": []
  },
  {
   "cell_type": "code",
   "execution_count": null,
   "metadata": {},
   "outputs": [],
   "source": []
  },
  {
   "cell_type": "code",
   "execution_count": 170,
   "metadata": {},
   "outputs": [],
   "source": [
    "nlp = spacy.load('en_core_web_sm')  "
   ]
  },
  {
   "cell_type": "code",
   "execution_count": null,
   "metadata": {},
   "outputs": [],
   "source": []
  },
  {
   "cell_type": "code",
   "execution_count": 178,
   "metadata": {
    "scrolled": false
   },
   "outputs": [
    {
     "name": "stdout",
     "output_type": "stream",
     "text": [
      "CPU times: user 2min 11s, sys: 1.35 s, total: 2min 12s\n",
      "Wall time: 1min 9s\n",
      "CPU times: user 8min 14s, sys: 49.3 s, total: 9min 3s\n",
      "Wall time: 4min 35s\n"
     ]
    }
   ],
   "source": [
    "mini_size = 10000\n",
    "minidf = df.iloc[:mini_size].copy()\n",
    "docdf = minidf\n",
    "%time docdf.title.loc[:] = docdf.title.map(nlp)\n",
    "%time docdf.abstract.loc[:] = docdf.abstract.map(nlp)"
   ]
  },
  {
   "cell_type": "code",
   "execution_count": 179,
   "metadata": {
    "scrolled": false
   },
   "outputs": [
    {
     "data": {
      "text/html": [
       "<div>\n",
       "<style scoped>\n",
       "    .dataframe tbody tr th:only-of-type {\n",
       "        vertical-align: middle;\n",
       "    }\n",
       "\n",
       "    .dataframe tbody tr th {\n",
       "        vertical-align: top;\n",
       "    }\n",
       "\n",
       "    .dataframe thead th {\n",
       "        text-align: right;\n",
       "    }\n",
       "</style>\n",
       "<table border=\"1\" class=\"dataframe\">\n",
       "  <thead>\n",
       "    <tr style=\"text-align: right;\">\n",
       "      <th></th>\n",
       "      <th>id</th>\n",
       "      <th>created</th>\n",
       "      <th>setspec</th>\n",
       "      <th>title</th>\n",
       "      <th>abstract</th>\n",
       "    </tr>\n",
       "  </thead>\n",
       "  <tbody>\n",
       "    <tr>\n",
       "      <th>0</th>\n",
       "      <td>1707.06238</td>\n",
       "      <td>2017-07-19</td>\n",
       "      <td>physics:astro-ph</td>\n",
       "      <td>(Orbiting, a, binary, :, SPHERE, characterisat...</td>\n",
       "      <td>(  , In, this, paper, we, present, the, result...</td>\n",
       "    </tr>\n",
       "    <tr>\n",
       "      <th>1</th>\n",
       "      <td>1707.06239</td>\n",
       "      <td>2017-07-19</td>\n",
       "      <td>physics:astro-ph</td>\n",
       "      <td>(An, astrometric, search, method, for, individ...</td>\n",
       "      <td>(  , Gravitational, waves, (, GWs, ), cause, t...</td>\n",
       "    </tr>\n",
       "    <tr>\n",
       "      <th>2</th>\n",
       "      <td>1707.06240</td>\n",
       "      <td>2017-07-19</td>\n",
       "      <td>math</td>\n",
       "      <td>(Second, -, order, Bounds, of, Gaussian, Kerne...</td>\n",
       "      <td>(  , Guaranteeing, stability, of, a, designed,...</td>\n",
       "    </tr>\n",
       "    <tr>\n",
       "      <th>3</th>\n",
       "      <td>1707.06241</td>\n",
       "      <td>2017-07-19</td>\n",
       "      <td>physics:astro-ph</td>\n",
       "      <td>(MUSE, sneaks, a, peek, at, extreme, ram, -, p...</td>\n",
       "      <td>(  , We, present, the, MUSE, observations, of,...</td>\n",
       "    </tr>\n",
       "    <tr>\n",
       "      <th>4</th>\n",
       "      <td>1707.06242</td>\n",
       "      <td>2017-07-19</td>\n",
       "      <td>physics:hep-th</td>\n",
       "      <td>(Green, -, Schwarz, Automorphisms, and, 6D, SC...</td>\n",
       "      <td>(  , All, known, interacting, 6D, superconform...</td>\n",
       "    </tr>\n",
       "  </tbody>\n",
       "</table>\n",
       "</div>"
      ],
      "text/plain": [
       "           id     created           setspec  \\\n",
       "0  1707.06238  2017-07-19  physics:astro-ph   \n",
       "1  1707.06239  2017-07-19  physics:astro-ph   \n",
       "2  1707.06240  2017-07-19              math   \n",
       "3  1707.06241  2017-07-19  physics:astro-ph   \n",
       "4  1707.06242  2017-07-19    physics:hep-th   \n",
       "\n",
       "                                               title  \\\n",
       "0  (Orbiting, a, binary, :, SPHERE, characterisat...   \n",
       "1  (An, astrometric, search, method, for, individ...   \n",
       "2  (Second, -, order, Bounds, of, Gaussian, Kerne...   \n",
       "3  (MUSE, sneaks, a, peek, at, extreme, ram, -, p...   \n",
       "4  (Green, -, Schwarz, Automorphisms, and, 6D, SC...   \n",
       "\n",
       "                                            abstract  \n",
       "0  (  , In, this, paper, we, present, the, result...  \n",
       "1  (  , Gravitational, waves, (, GWs, ), cause, t...  \n",
       "2  (  , Guaranteeing, stability, of, a, designed,...  \n",
       "3  (  , We, present, the, MUSE, observations, of,...  \n",
       "4  (  , All, known, interacting, 6D, superconform...  "
      ]
     },
     "execution_count": 179,
     "metadata": {},
     "output_type": "execute_result"
    }
   ],
   "source": [
    "docdf.head()"
   ]
  },
  {
   "cell_type": "code",
   "execution_count": null,
   "metadata": {},
   "outputs": [],
   "source": []
  },
  {
   "cell_type": "code",
   "execution_count": 197,
   "metadata": {},
   "outputs": [],
   "source": [
    "def sim_df(docdf):\n",
    "    d = defaultdict(list)\n",
    "    for (index_1, row_1), (index_2, row_2) in product(docdf.iterrows(), repeat=2):\n",
    "        d[row_1.id].append(row_1.title.similarity(row_2.title))\n",
    "\n",
    "    min_sim = pd.DataFrame(data=d, index=docdf.id, columns=docdf.id)\n",
    "    return min_sim"
   ]
  },
  {
   "cell_type": "code",
   "execution_count": 198,
   "metadata": {},
   "outputs": [
    {
     "name": "stdout",
     "output_type": "stream",
     "text": [
      "CPU times: user 45.1 s, sys: 363 ms, total: 45.4 s\n",
      "Wall time: 45.9 s\n"
     ]
    }
   ],
   "source": [
    "%time min_sim = sim_df(docdf.iloc[:1000,:1000])"
   ]
  },
  {
   "cell_type": "code",
   "execution_count": 216,
   "metadata": {
    "scrolled": true
   },
   "outputs": [
    {
     "data": {
      "text/plain": [
       "id\n",
       "1707.06238    1.000000\n",
       "1707.06463    0.901182\n",
       "1707.06437    0.872049\n",
       "1611.01794    0.867840\n",
       "1707.06496    0.866621\n",
       "Name: 1707.06238, dtype: float64"
      ]
     },
     "execution_count": 216,
     "metadata": {},
     "output_type": "execute_result"
    }
   ],
   "source": [
    "min_sim.loc['1707.06238',:].sort_values(ascending=False).head()"
   ]
  },
  {
   "cell_type": "code",
   "execution_count": 204,
   "metadata": {},
   "outputs": [
    {
     "data": {
      "text/plain": [
       "True"
      ]
     },
     "execution_count": 204,
     "metadata": {},
     "output_type": "execute_result"
    }
   ],
   "source": [
    "docdf.title[0].vocab == docdf.abstract[1].vocab"
   ]
  },
  {
   "cell_type": "code",
   "execution_count": 206,
   "metadata": {},
   "outputs": [],
   "source": [
    "v = docdf.title[0].vocab"
   ]
  },
  {
   "cell_type": "code",
   "execution_count": 207,
   "metadata": {},
   "outputs": [
    {
     "data": {
      "text/plain": [
       "'en'"
      ]
     },
     "execution_count": 207,
     "metadata": {},
     "output_type": "execute_result"
    }
   ],
   "source": [
    "v.lang"
   ]
  },
  {
   "cell_type": "code",
   "execution_count": 208,
   "metadata": {},
   "outputs": [
    {
     "data": {
      "text/plain": [
       "58707"
      ]
     },
     "execution_count": 208,
     "metadata": {},
     "output_type": "execute_result"
    }
   ],
   "source": [
    "v.length"
   ]
  },
  {
   "cell_type": "code",
   "execution_count": null,
   "metadata": {},
   "outputs": [],
   "source": []
  }
 ],
 "metadata": {
  "kernelspec": {
   "display_name": "Python 3",
   "language": "python",
   "name": "python3"
  },
  "language_info": {
   "codemirror_mode": {
    "name": "ipython",
    "version": 3
   },
   "file_extension": ".py",
   "mimetype": "text/x-python",
   "name": "python",
   "nbconvert_exporter": "python",
   "pygments_lexer": "ipython3",
   "version": "3.6.5"
  }
 },
 "nbformat": 4,
 "nbformat_minor": 2
}
