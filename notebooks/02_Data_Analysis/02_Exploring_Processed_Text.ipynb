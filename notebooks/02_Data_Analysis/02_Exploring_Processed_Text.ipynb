{
 "cells": [
  {
   "cell_type": "code",
   "execution_count": 1,
   "metadata": {},
   "outputs": [],
   "source": [
    "from sqlalchemy import create_engine, Column, String, Integer, DATE, BOOLEAN\n",
    "from sqlalchemy.orm import sessionmaker\n",
    "\n",
    "from sqlalchemy.ext.declarative import declarative_base\n",
    "from sqlalchemy import func\n",
    "\n",
    "import pandas as pd\n",
    "import json"
   ]
  },
  {
   "cell_type": "markdown",
   "metadata": {},
   "source": [
    "## Setup our `sqlalchemy`"
   ]
  },
  {
   "cell_type": "markdown",
   "metadata": {},
   "source": [
    "Load the server credentials so we can actually look at our data. We'll use a `pandas` DataFrame object to hold the infomation locally and do some exploration."
   ]
  },
  {
   "cell_type": "code",
   "execution_count": 2,
   "metadata": {},
   "outputs": [],
   "source": [
    "with open('../../postgres.json') as pg_info:\n",
    "    pg_json = json.load(pg_info)\n",
    "    pg_username = pg_json['pg_username']\n",
    "    pg_password = pg_json['pg_password']\n",
    "    pg_ip = pg_json['pg_ip']"
   ]
  },
  {
   "cell_type": "code",
   "execution_count": 3,
   "metadata": {},
   "outputs": [],
   "source": [
    "Base = declarative_base()\n",
    "class articles_detex(Base):\n",
    "    __tablename__ = 'arxiv_detex'\n",
    "    \n",
    "    id = Column(String, primary_key=True)\n",
    "    created = Column(DATE)\n",
    "    setspec = Column(String)\n",
    "    \n",
    "    title = Column(String)\n",
    "    title_converted = Column(BOOLEAN)\n",
    "    \n",
    "    abstract = Column(String)\n",
    "    abstract_converted = Column(BOOLEAN)\n",
    "    \n",
    "engine = create_engine(f'postgres://{pg_username}:{pg_password}@{pg_ip}:5432')\n",
    "Base.metadata.create_all(engine)\n",
    "\n",
    "\n",
    "class articles_pandoc(Base):\n",
    "    __tablename__ = 'arxiv_pandoc'\n",
    "    \n",
    "    id = Column(String, primary_key=True)\n",
    "    created = Column(DATE)\n",
    "    setspec = Column(String)\n",
    "    \n",
    "    title = Column(String)\n",
    "    title_converted = Column(BOOLEAN)\n",
    "    \n",
    "    abstract = Column(String)\n",
    "    abstract_converted = Column(BOOLEAN)\n",
    "    \n",
    "engine = create_engine(f'postgres://{pg_username}:{pg_password}@{pg_ip}:5432')\n"
   ]
  },
  {
   "cell_type": "code",
   "execution_count": 4,
   "metadata": {},
   "outputs": [],
   "source": [
    "Session = sessionmaker(bind=engine)\n",
    "session = Session()"
   ]
  },
  {
   "cell_type": "code",
   "execution_count": 5,
   "metadata": {
    "scrolled": false
   },
   "outputs": [
    {
     "data": {
      "text/html": [
       "<div>\n",
       "<style scoped>\n",
       "    .dataframe tbody tr th:only-of-type {\n",
       "        vertical-align: middle;\n",
       "    }\n",
       "\n",
       "    .dataframe tbody tr th {\n",
       "        vertical-align: top;\n",
       "    }\n",
       "\n",
       "    .dataframe thead th {\n",
       "        text-align: right;\n",
       "    }\n",
       "</style>\n",
       "<table border=\"1\" class=\"dataframe\">\n",
       "  <thead>\n",
       "    <tr style=\"text-align: right;\">\n",
       "      <th></th>\n",
       "      <th>id</th>\n",
       "      <th>created</th>\n",
       "      <th>setspec</th>\n",
       "      <th>title</th>\n",
       "      <th>title_converted</th>\n",
       "      <th>abstract</th>\n",
       "      <th>abstract_converted</th>\n",
       "    </tr>\n",
       "  </thead>\n",
       "  <tbody>\n",
       "    <tr>\n",
       "      <th>0</th>\n",
       "      <td>physics/0208086</td>\n",
       "      <td>2002-08-23</td>\n",
       "      <td>physics:physics</td>\n",
       "      <td>Wakefield Band Partitioning In Linac Structures\\n</td>\n",
       "      <td>True</td>\n",
       "      <td>In the NLC project multiple bunches of electro...</td>\n",
       "      <td>True</td>\n",
       "    </tr>\n",
       "    <tr>\n",
       "      <th>1</th>\n",
       "      <td>physics/0208087</td>\n",
       "      <td>2002-08-26</td>\n",
       "      <td>physics:physics</td>\n",
       "      <td>Measuring the Earth with Traceroute\\n</td>\n",
       "      <td>True</td>\n",
       "      <td>The traceroute utility on any computer connect...</td>\n",
       "      <td>True</td>\n",
       "    </tr>\n",
       "    <tr>\n",
       "      <th>2</th>\n",
       "      <td>physics/0208088</td>\n",
       "      <td>2002-08-26</td>\n",
       "      <td>physics:physics</td>\n",
       "      <td>Precision measurement of the metastable 3P2 li...</td>\n",
       "      <td>True</td>\n",
       "      <td>The lifetime of the metastable 3P2 state of ne...</td>\n",
       "      <td>True</td>\n",
       "    </tr>\n",
       "    <tr>\n",
       "      <th>3</th>\n",
       "      <td>physics/0208089</td>\n",
       "      <td>2002-08-26</td>\n",
       "      <td>physics:physics</td>\n",
       "      <td>Dynamical Monte Carlo method for stochastic ep...</td>\n",
       "      <td>True</td>\n",
       "      <td>In this work we introduce a new approach to Dy...</td>\n",
       "      <td>True</td>\n",
       "    </tr>\n",
       "    <tr>\n",
       "      <th>4</th>\n",
       "      <td>physics/0208090</td>\n",
       "      <td>2002-08-26</td>\n",
       "      <td>physics:astro-ph</td>\n",
       "      <td>Proton Irradiation Experiment for the X-ray Ch...</td>\n",
       "      <td>True</td>\n",
       "      <td>We have investigated the radiation damage effe...</td>\n",
       "      <td>True</td>\n",
       "    </tr>\n",
       "  </tbody>\n",
       "</table>\n",
       "</div>"
      ],
      "text/plain": [
       "                id     created           setspec  \\\n",
       "0  physics/0208086  2002-08-23   physics:physics   \n",
       "1  physics/0208087  2002-08-26   physics:physics   \n",
       "2  physics/0208088  2002-08-26   physics:physics   \n",
       "3  physics/0208089  2002-08-26   physics:physics   \n",
       "4  physics/0208090  2002-08-26  physics:astro-ph   \n",
       "\n",
       "                                               title  title_converted  \\\n",
       "0  Wakefield Band Partitioning In Linac Structures\\n             True   \n",
       "1              Measuring the Earth with Traceroute\\n             True   \n",
       "2  Precision measurement of the metastable 3P2 li...             True   \n",
       "3  Dynamical Monte Carlo method for stochastic ep...             True   \n",
       "4  Proton Irradiation Experiment for the X-ray Ch...             True   \n",
       "\n",
       "                                            abstract  abstract_converted  \n",
       "0  In the NLC project multiple bunches of electro...                True  \n",
       "1  The traceroute utility on any computer connect...                True  \n",
       "2  The lifetime of the metastable 3P2 state of ne...                True  \n",
       "3  In this work we introduce a new approach to Dy...                True  \n",
       "4  We have investigated the radiation damage effe...                True  "
      ]
     },
     "execution_count": 5,
     "metadata": {},
     "output_type": "execute_result"
    }
   ],
   "source": [
    "pandoc_query = session.query(articles_pandoc)\n",
    "pandoc = pd.read_sql(pandoc_query.statement, pandoc_query.session.bind)\n",
    "pandoc.head()"
   ]
  },
  {
   "cell_type": "markdown",
   "metadata": {},
   "source": [
    "## Conversion Failures\n",
    "\n",
    "We went through all the trouble of trying to remove the $\\LaTeX$, and at least recorded when our methods failed. Let's go check what happened with that, i.e. how often did `detex` and `pandoc` fail?"
   ]
  },
  {
   "cell_type": "code",
   "execution_count": 6,
   "metadata": {},
   "outputs": [],
   "source": [
    "def conversion_rates(series):\n",
    "    series = series.value_counts()\n",
    "    successes = series[True]\n",
    "    failures = series[False] \n",
    "    total = successes + failures\n",
    "    print(f'Conversion Rate: {(100*successes/total):.2f}%')\n",
    "    print(f'Failure Rate: {100*failures/total:.2f}%')"
   ]
  },
  {
   "cell_type": "code",
   "execution_count": 7,
   "metadata": {
    "scrolled": true
   },
   "outputs": [
    {
     "name": "stdout",
     "output_type": "stream",
     "text": [
      "Conversion Rate: 98.99%\n",
      "Failure Rate: 1.01%\n"
     ]
    }
   ],
   "source": [
    "conversion_rates(pandoc.title_converted)"
   ]
  },
  {
   "cell_type": "code",
   "execution_count": 8,
   "metadata": {
    "scrolled": true
   },
   "outputs": [
    {
     "name": "stdout",
     "output_type": "stream",
     "text": [
      "Conversion Rate: 93.35%\n",
      "Failure Rate: 6.65%\n"
     ]
    }
   ],
   "source": [
    "conversion_rates(pandoc.abstract_converted)"
   ]
  }
 ],
 "metadata": {
  "kernelspec": {
   "display_name": "Python 3",
   "language": "python",
   "name": "python3"
  },
  "language_info": {
   "codemirror_mode": {
    "name": "ipython",
    "version": 3
   },
   "file_extension": ".py",
   "mimetype": "text/x-python",
   "name": "python",
   "nbconvert_exporter": "python",
   "pygments_lexer": "ipython3",
   "version": "3.6.5"
  }
 },
 "nbformat": 4,
 "nbformat_minor": 2
}
