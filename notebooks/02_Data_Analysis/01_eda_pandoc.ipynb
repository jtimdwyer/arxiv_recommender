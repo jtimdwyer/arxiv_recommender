{
 "cells": [
  {
   "cell_type": "markdown",
   "metadata": {},
   "source": [
    "# Exploratory Data Analysis"
   ]
  },
  {
   "cell_type": "markdown",
   "metadata": {},
   "source": [
    "### Load the data"
   ]
  },
  {
   "cell_type": "code",
   "execution_count": 1,
   "metadata": {},
   "outputs": [],
   "source": [
    "from sqlalchemy import create_engine, Column, String, Integer, DATE, BOOLEAN\n",
    "from sqlalchemy.orm import sessionmaker\n",
    "\n",
    "from sqlalchemy.ext.declarative import declarative_base\n",
    "from sqlalchemy import func\n",
    "\n",
    "\n",
    "from itertools import product\n",
    "from collections import defaultdict\n",
    "\n",
    "import pandas as pd\n",
    "import numpy as np\n",
    "import json\n",
    "\n",
    "import spacy\n",
    "\n",
    "import sys\n",
    "\n",
    "import pypandoc"
   ]
  },
  {
   "cell_type": "code",
   "execution_count": 2,
   "metadata": {},
   "outputs": [],
   "source": [
    "with open('../../postgres.json') as pg_info:\n",
    "    pg_json = json.load(pg_info)\n",
    "    pg_username = pg_json['pg_username']\n",
    "    pg_password = pg_json['pg_password']\n",
    "    pg_ip = pg_json['pg_ip']\n",
    "\n",
    "engine = create_engine(f'postgres://{pg_username}:{pg_password}@{pg_ip}:5432')"
   ]
  },
  {
   "cell_type": "code",
   "execution_count": 3,
   "metadata": {},
   "outputs": [],
   "source": [
    "Base = declarative_base()\n",
    "\n",
    "\n",
    "\n",
    "\n",
    "# the article class is how sqlalchemy treats the objects of a row\n",
    "class Articles_raw(Base):\n",
    "    __tablename__ = 'arxiv_raw'\n",
    "    \n",
    "    id = Column(String, primary_key=True)\n",
    "    created = Column(DATE)\n",
    "    setspec = Column(String)\n",
    "    title = Column(String)\n",
    "    abstract = Column(String)\n",
    "\n",
    "\n",
    "# the article class is how sqlalchemy treats the objects of a row\n",
    "class Articles_pandoc(Base):\n",
    "    __tablename__ = 'arxiv_pandoc'\n",
    "    \n",
    "    id = Column(String, primary_key=True)\n",
    "    created = Column(DATE)\n",
    "    setspec = Column(String)\n",
    "    \n",
    "    title = Column(String)\n",
    "    title_converted = Column(BOOLEAN)\n",
    "    \n",
    "    abstract = Column(String)\n",
    "    abstract_converted = Column(BOOLEAN)\n",
    "\n",
    "    \n",
    "    \n",
    "    \n",
    "Base.metadata.create_all(bind=engine)\n",
    "    \n",
    "    \n",
    "Session = sessionmaker(bind=engine)\n"
   ]
  },
  {
   "cell_type": "code",
   "execution_count": 4,
   "metadata": {},
   "outputs": [],
   "source": [
    "def commit_session_run(commit_session):\n",
    "    try:\n",
    "        commit_session.commit()\n",
    "        return True\n",
    "    except:\n",
    "        commit_session.rollback()\n",
    "    return False\n"
   ]
  },
  {
   "cell_type": "code",
   "execution_count": 5,
   "metadata": {},
   "outputs": [],
   "source": [
    "def str_fix(str_to_fix):\n",
    "    try:\n",
    "        return pypandoc.convert_text(str_to_fix, to='plain', format='latex'), True\n",
    "    except:\n",
    "        return str_to_fix, False\n"
   ]
  },
  {
   "cell_type": "code",
   "execution_count": 6,
   "metadata": {},
   "outputs": [],
   "source": [
    "def change_tex(record):\n",
    "    processed_article_info = {\n",
    "                'id':record.id,\n",
    "                'created':record.created,\n",
    "                'setspec':record.setspec,\n",
    "                'title':record.title,\n",
    "                'abstract':record.abstract,\n",
    "            }\n",
    "    \n",
    "    processed_abstract, abstract_bool = str_fix(record.abstract)\n",
    "    processed_title, title_bool = str_fix(record.title)\n",
    "    \n",
    "    processed_article_info['abstract'] = processed_abstract\n",
    "    processed_article_info['abstract_converted'] = abstract_bool\n",
    "    \n",
    "    processed_article_info['title'] = processed_title\n",
    "    processed_article_info['title_converted'] = title_bool\n",
    "    \n",
    "\n",
    "    processed_article = Articles_pandoc(**processed_article_info)\n",
    "    return processed_article"
   ]
  },
  {
   "cell_type": "code",
   "execution_count": 7,
   "metadata": {},
   "outputs": [],
   "source": [
    "def query_tex(limit_num=None, Session=None, batch_size=1000):\n",
    "    #get a new session into the database\n",
    "    #using one to query and one to commit\n",
    "    query_session, commit_session = Session(), Session()\n",
    "\n",
    "    #use the session to query the database\n",
    "    if limit_num:\n",
    "        query = query_session.query(Articles_raw).limit(limit_num)\n",
    "\n",
    "    else:\n",
    "        query = query_session.query(Articles_raw).yield_per(batch_size)\n",
    "    \n",
    "    for row_num, record in enumerate(query):        \n",
    "        processed_article = change_tex(record)\n",
    "        commit_session.add(processed_article)\n",
    "        \n",
    "        if row_num % 1000 == 0:\n",
    "            commit_session_run(commit_session)\n",
    "                \n",
    "                \n",
    "    commit_session_run(commit_session)\n",
    "    \n",
    "    return row_num\n",
    "    "
   ]
  },
  {
   "cell_type": "code",
   "execution_count": 8,
   "metadata": {},
   "outputs": [
    {
     "data": {
      "text/plain": [
       "99"
      ]
     },
     "execution_count": 8,
     "metadata": {},
     "output_type": "execute_result"
    }
   ],
   "source": [
    "query_tex(limit_num=100, Session=Session)"
   ]
  }
 ],
 "metadata": {
  "kernelspec": {
   "display_name": "Python 3",
   "language": "python",
   "name": "python3"
  },
  "language_info": {
   "codemirror_mode": {
    "name": "ipython",
    "version": 3
   },
   "file_extension": ".py",
   "mimetype": "text/x-python",
   "name": "python",
   "nbconvert_exporter": "python",
   "pygments_lexer": "ipython3",
   "version": "3.6.5"
  }
 },
 "nbformat": 4,
 "nbformat_minor": 2
}
