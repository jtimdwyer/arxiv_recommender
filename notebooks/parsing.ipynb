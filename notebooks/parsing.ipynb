{
 "cells": [
  {
   "cell_type": "code",
   "execution_count": 1,
   "metadata": {},
   "outputs": [],
   "source": [
    "from bs4 import BeautifulSoup\n",
    "import json"
   ]
  },
  {
   "cell_type": "code",
   "execution_count": 2,
   "metadata": {},
   "outputs": [],
   "source": [
    "def tag_to_str(article):\n",
    "    for key in article:\n",
    "        value = article[key]\n",
    "        if str(type(value)) == \"<class 'bs4.element.ResultSet'>\":\n",
    "            article[key] = [v.text for v in value]\n",
    "\n",
    "def arxiv_parse_entry(article, arxiv_list):\n",
    "    article = ''.join(article)\n",
    "    article = BeautifulSoup(article, 'lxml-xml')\n",
    "    \n",
    "    article_id = article.find('identifier').text\n",
    "    article_json = {}\n",
    "    \n",
    "    article_json['identifier'] = article.find_all('identifier')\n",
    "    article_json['datestamp'] = article.find_all('datestamp')\n",
    "    article_json['setSpec'] = article.find_all('setSpec')\n",
    "    \n",
    "    article_json['title'] = article.find_all('title')\n",
    "    article_json['creator'] = article.find_all('creator')\n",
    "    article_json['subject'] = article.find_all('subject')\n",
    "    article_json['description'] = article.find_all('description')\n",
    "    article_json['date'] = article.find_all('date')\n",
    "    article_json['type'] = article.find_all('type')\n",
    "    \n",
    "    tag_to_str(article_json)\n",
    "    arxiv_list.append(article_json)\n"
   ]
  },
  {
   "cell_type": "code",
   "execution_count": 4,
   "metadata": {
    "scrolled": true
   },
   "outputs": [],
   "source": [
    "arxiv = []\n",
    "article = []\n",
    "articles_in_bin = 0\n",
    "bin_number = 0\n",
    "hun_thou = 10**5\n",
    "\n",
    "\n",
    "with open('../../Desktop/arxiv-bulk-metadata/arxiv_biblio_oai_dc.2017-09-12.xml', 'r') as file:\n",
    "    for line_num, line in enumerate(file):\n",
    "        article.append(line)\n",
    "\n",
    "        if '</Record>' in line:\n",
    "            arxiv_parse_entry(article, arxiv) #adds the article info to arxiv\n",
    "            article = [] #reset the article info\n",
    "            articles_in_bin += 1 #incremeent the bin label\n",
    "            \n",
    "            if articles_in_bin == hun_thou:\n",
    "                try:\n",
    "                    with open(f'../../Desktop/jsons_1/{bin_number}.json', 'w') as json_dump:\n",
    "                        json.dump(arxiv, json_dump)\n",
    "                    bin_number += 1\n",
    "                    arxiv = []\n",
    "                    articles_in_bin = 0\n",
    "                except:\n",
    "                    break\n",
    "                    print(f'The processing freaked out at line {line_num} :(')\n",
    "            "
   ]
  },
  {
   "cell_type": "code",
   "execution_count": 5,
   "metadata": {},
   "outputs": [],
   "source": [
    "arxiv = []\n",
    "article = []\n",
    "articles_in_bin = 0\n",
    "bin_number = 0\n",
    "hun_thou = 10**5\n",
    "\n",
    "\n",
    "with open('../../Desktop/arxiv-bulk-metadata/arxiv_biblio_oai_dc.2018-01-19.xml', 'r') as file:\n",
    "    for line_num, line in enumerate(file):\n",
    "        article.append(line)\n",
    "\n",
    "        if '</Record>' in line:\n",
    "            arxiv_parse_entry(article, arxiv) #adds the article info to arxiv\n",
    "            article = [] #reset the article info\n",
    "            articles_in_bin += 1 #incremeent the bin label\n",
    "            \n",
    "            if articles_in_bin == hun_thou:\n",
    "                try:\n",
    "                    with open(f'../../Desktop/jsons_2/{bin_number}.json', 'w') as json_dump:\n",
    "                        json.dump(arxiv, json_dump)\n",
    "                    bin_number += 1\n",
    "                    arxiv = []\n",
    "                    articles_in_bin = 0\n",
    "                except:\n",
    "                    break\n",
    "                    print(f'The processing freaked out at line {line_num} :(')\n",
    "            "
   ]
  },
  {
   "cell_type": "markdown",
   "metadata": {},
   "source": [
    "Perfect! This is precisely what I want! I want to do this in this annoying way for no real reason other than that I need to do this in a way to read through the file line by line rather than reading the whole thing into memory at once (it's very big).\n",
    "\n",
    "So what I can do here is to read the through it, constructing my own little mini xml file in memory at each step and then grabbing the info I want each time. I can have it save the way I want it to as well in a csv or something maybe? Maybe just an honest json since I'm going to have a bunch of strings running around. The json definitely makes more sense. "
   ]
  }
 ],
 "metadata": {
  "kernelspec": {
   "display_name": "Python 3",
   "language": "python",
   "name": "python3"
  },
  "language_info": {
   "codemirror_mode": {
    "name": "ipython",
    "version": 3
   },
   "file_extension": ".py",
   "mimetype": "text/x-python",
   "name": "python",
   "nbconvert_exporter": "python",
   "pygments_lexer": "ipython3",
   "version": "3.6.5"
  }
 },
 "nbformat": 4,
 "nbformat_minor": 2
}
