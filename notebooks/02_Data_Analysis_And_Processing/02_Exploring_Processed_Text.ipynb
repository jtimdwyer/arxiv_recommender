{
 "cells": [
  {
   "cell_type": "code",
   "execution_count": 1,
   "metadata": {},
   "outputs": [],
   "source": [
    "from sqlalchemy import create_engine, Column, String, Integer, DATE, BOOLEAN\n",
    "from sqlalchemy.orm import sessionmaker\n",
    "\n",
    "from sqlalchemy.ext.declarative import declarative_base\n",
    "from sqlalchemy import func\n",
    "\n",
    "import json"
   ]
  },
  {
   "cell_type": "markdown",
   "metadata": {},
   "source": [
    "## Setup our `sqlalchemy`"
   ]
  },
  {
   "cell_type": "markdown",
   "metadata": {},
   "source": [
    "Load the server credentials so we can actually look at our data. We'll use a `pandas` DataFrame object to hold the infomation locally and do some exploration."
   ]
  },
  {
   "cell_type": "code",
   "execution_count": 2,
   "metadata": {},
   "outputs": [],
   "source": [
    "with open('../../postgres.json') as pg_info:\n",
    "    pg_json = json.load(pg_info)\n",
    "    pg_username = pg_json['pg_username']\n",
    "    pg_password = pg_json['pg_password']\n",
    "    pg_ip = pg_json['pg_ip']"
   ]
  },
  {
   "cell_type": "code",
   "execution_count": 3,
   "metadata": {},
   "outputs": [],
   "source": [
    "Base = declarative_base()\n",
    "\n",
    "class articles_detex(Base):\n",
    "    __tablename__ = 'arxiv_detex'\n",
    "    \n",
    "    id = Column(String, primary_key=True)\n",
    "    created = Column(DATE)\n",
    "    setspec = Column(String)\n",
    "    \n",
    "    title = Column(String)\n",
    "    title_converted = Column(BOOLEAN)\n",
    "    \n",
    "    abstract = Column(String)\n",
    "    abstract_converted = Column(BOOLEAN)\n",
    "\n",
    "class articles_pandoc(Base):\n",
    "    __tablename__ = 'arxiv_pandoc'\n",
    "    \n",
    "    id = Column(String, primary_key=True)\n",
    "    created = Column(DATE)\n",
    "    setspec = Column(String)\n",
    "    \n",
    "    title = Column(String)\n",
    "    title_converted = Column(BOOLEAN)\n",
    "    \n",
    "    abstract = Column(String)\n",
    "    abstract_converted = Column(BOOLEAN)\n",
    "    \n"
   ]
  },
  {
   "cell_type": "code",
   "execution_count": 4,
   "metadata": {},
   "outputs": [],
   "source": [
    "engine = create_engine(f'postgres://{pg_username}:{pg_password}@{pg_ip}:5432')\n",
    "Session = sessionmaker(bind=engine)\n"
   ]
  },
  {
   "cell_type": "markdown",
   "metadata": {},
   "source": [
    "## Conversion Failures\n",
    "\n",
    "We went through all the trouble of trying to remove the $\\LaTeX$, and at least recorded when our methods failed. Let's go check what happened with that, i.e. how often did `detex` and `pandoc` fail?"
   ]
  },
  {
   "cell_type": "code",
   "execution_count": 8,
   "metadata": {},
   "outputs": [],
   "source": [
    "import matplotlib.pyplot as plt\n",
    "import pandas as pd"
   ]
  },
  {
   "cell_type": "code",
   "execution_count": 5,
   "metadata": {},
   "outputs": [],
   "source": [
    "def conversion_rates(article_class, Session, column='title'):\n",
    "    \n",
    "    if column == 'title':\n",
    "        article_column = article_class.title_converted\n",
    "    elif column == 'abstract':\n",
    "        article_column = article_class.abstract_converted\n",
    "    else:\n",
    "        print('column must be either \"title\" or \"abstract\"')\n",
    "        return\n",
    "\n",
    "    session = Session()\n",
    "    \n",
    "    query = session.query(article_column, func.count(article_column))\n",
    "    query = query.group_by(article_column)\n",
    "    \n",
    "    df = pd.read_sql(query.statement, query.session.bind).set_index(column + '_converted')\n",
    "    session.close()\n",
    "    \n",
    "    return df"
   ]
  },
  {
   "cell_type": "code",
   "execution_count": 10,
   "metadata": {
    "scrolled": true
   },
   "outputs": [
    {
     "data": {
      "text/html": [
       "<div>\n",
       "<style scoped>\n",
       "    .dataframe tbody tr th:only-of-type {\n",
       "        vertical-align: middle;\n",
       "    }\n",
       "\n",
       "    .dataframe tbody tr th {\n",
       "        vertical-align: top;\n",
       "    }\n",
       "\n",
       "    .dataframe thead th {\n",
       "        text-align: right;\n",
       "    }\n",
       "</style>\n",
       "<table border=\"1\" class=\"dataframe\">\n",
       "  <thead>\n",
       "    <tr style=\"text-align: right;\">\n",
       "      <th></th>\n",
       "      <th>count_1</th>\n",
       "    </tr>\n",
       "    <tr>\n",
       "      <th>title_converted</th>\n",
       "      <th></th>\n",
       "    </tr>\n",
       "  </thead>\n",
       "  <tbody>\n",
       "    <tr>\n",
       "      <th>True</th>\n",
       "      <td>1407628</td>\n",
       "    </tr>\n",
       "  </tbody>\n",
       "</table>\n",
       "</div>"
      ],
      "text/plain": [
       "                 count_1\n",
       "title_converted         \n",
       "True             1407628"
      ]
     },
     "execution_count": 10,
     "metadata": {},
     "output_type": "execute_result"
    }
   ],
   "source": [
    "df_detex_title = conversion_rates(articles_detex, Session, column='title')\n",
    "df_detex_title"
   ]
  },
  {
   "cell_type": "code",
   "execution_count": 11,
   "metadata": {},
   "outputs": [
    {
     "data": {
      "text/html": [
       "<div>\n",
       "<style scoped>\n",
       "    .dataframe tbody tr th:only-of-type {\n",
       "        vertical-align: middle;\n",
       "    }\n",
       "\n",
       "    .dataframe tbody tr th {\n",
       "        vertical-align: top;\n",
       "    }\n",
       "\n",
       "    .dataframe thead th {\n",
       "        text-align: right;\n",
       "    }\n",
       "</style>\n",
       "<table border=\"1\" class=\"dataframe\">\n",
       "  <thead>\n",
       "    <tr style=\"text-align: right;\">\n",
       "      <th></th>\n",
       "      <th>count_1</th>\n",
       "    </tr>\n",
       "    <tr>\n",
       "      <th>abstract_converted</th>\n",
       "      <th></th>\n",
       "    </tr>\n",
       "  </thead>\n",
       "  <tbody>\n",
       "    <tr>\n",
       "      <th>True</th>\n",
       "      <td>1407628</td>\n",
       "    </tr>\n",
       "  </tbody>\n",
       "</table>\n",
       "</div>"
      ],
      "text/plain": [
       "                    count_1\n",
       "abstract_converted         \n",
       "True                1407628"
      ]
     },
     "execution_count": 11,
     "metadata": {},
     "output_type": "execute_result"
    }
   ],
   "source": [
    "df_detex_abstract = conversion_rates(articles_detex, Session, column='abstract')\n",
    "df_detex_abstract"
   ]
  },
  {
   "cell_type": "markdown",
   "metadata": {},
   "source": [
    "The tables above show us that `pandoc` didn't issue an error and returned a value when we tried to process the titles and abstracts. Of course this doesn't mean all is well, let's check the `pandoc` results."
   ]
  },
  {
   "cell_type": "code",
   "execution_count": 12,
   "metadata": {
    "scrolled": false
   },
   "outputs": [
    {
     "data": {
      "text/html": [
       "<div>\n",
       "<style scoped>\n",
       "    .dataframe tbody tr th:only-of-type {\n",
       "        vertical-align: middle;\n",
       "    }\n",
       "\n",
       "    .dataframe tbody tr th {\n",
       "        vertical-align: top;\n",
       "    }\n",
       "\n",
       "    .dataframe thead th {\n",
       "        text-align: right;\n",
       "    }\n",
       "</style>\n",
       "<table border=\"1\" class=\"dataframe\">\n",
       "  <thead>\n",
       "    <tr style=\"text-align: right;\">\n",
       "      <th></th>\n",
       "      <th>count_1</th>\n",
       "    </tr>\n",
       "    <tr>\n",
       "      <th>title_converted</th>\n",
       "      <th></th>\n",
       "    </tr>\n",
       "  </thead>\n",
       "  <tbody>\n",
       "    <tr>\n",
       "      <th>False</th>\n",
       "      <td>14153</td>\n",
       "    </tr>\n",
       "    <tr>\n",
       "      <th>True</th>\n",
       "      <td>1393475</td>\n",
       "    </tr>\n",
       "  </tbody>\n",
       "</table>\n",
       "</div>"
      ],
      "text/plain": [
       "                 count_1\n",
       "title_converted         \n",
       "False              14153\n",
       "True             1393475"
      ]
     },
     "execution_count": 12,
     "metadata": {},
     "output_type": "execute_result"
    }
   ],
   "source": [
    "df_pandoc_title = conversion_rates(articles_pandoc, Session, column='title')\n",
    "df_pandoc_title"
   ]
  },
  {
   "cell_type": "code",
   "execution_count": 23,
   "metadata": {},
   "outputs": [],
   "source": [
    "num_articles = df_pandoc_title.count_1.sum()"
   ]
  },
  {
   "cell_type": "code",
   "execution_count": 27,
   "metadata": {},
   "outputs": [
    {
     "name": "stdout",
     "output_type": "stream",
     "text": [
      "pandoc fail rate for TITLES: 1.01%\n",
      "pandoc success rate for ABSTRACTS: 98.99%\n"
     ]
    }
   ],
   "source": [
    "print(f'pandoc fail rate for TITLES: {100*df_pandoc_title.count_1[False]/num_articles:.2f}%')\n",
    "print(f'pandoc success rate for ABSTRACTS: {100*df_pandoc_title.count_1[True]/num_articles:.2f}%')"
   ]
  },
  {
   "cell_type": "code",
   "execution_count": 30,
   "metadata": {},
   "outputs": [
    {
     "data": {
      "text/html": [
       "<div>\n",
       "<style scoped>\n",
       "    .dataframe tbody tr th:only-of-type {\n",
       "        vertical-align: middle;\n",
       "    }\n",
       "\n",
       "    .dataframe tbody tr th {\n",
       "        vertical-align: top;\n",
       "    }\n",
       "\n",
       "    .dataframe thead th {\n",
       "        text-align: right;\n",
       "    }\n",
       "</style>\n",
       "<table border=\"1\" class=\"dataframe\">\n",
       "  <thead>\n",
       "    <tr style=\"text-align: right;\">\n",
       "      <th></th>\n",
       "      <th>count_1</th>\n",
       "    </tr>\n",
       "    <tr>\n",
       "      <th>abstract_converted</th>\n",
       "      <th></th>\n",
       "    </tr>\n",
       "  </thead>\n",
       "  <tbody>\n",
       "    <tr>\n",
       "      <th>False</th>\n",
       "      <td>93656</td>\n",
       "    </tr>\n",
       "    <tr>\n",
       "      <th>True</th>\n",
       "      <td>1313972</td>\n",
       "    </tr>\n",
       "  </tbody>\n",
       "</table>\n",
       "</div>"
      ],
      "text/plain": [
       "                    count_1\n",
       "abstract_converted         \n",
       "False                 93656\n",
       "True                1313972"
      ]
     },
     "execution_count": 30,
     "metadata": {},
     "output_type": "execute_result"
    }
   ],
   "source": [
    "df_pandoc_abstract = conversion_rates(articles_pandoc, Session, column='abstract')\n",
    "df_pandoc_abstract"
   ]
  },
  {
   "cell_type": "code",
   "execution_count": 31,
   "metadata": {},
   "outputs": [
    {
     "name": "stdout",
     "output_type": "stream",
     "text": [
      "pandoc fail rate for TITLES: 6.65%\n",
      "pandoc success rate for ABSTRACTS: 93.35%\n"
     ]
    }
   ],
   "source": [
    "print(f'pandoc fail rate for TITLES: {100*df_pandoc_abstract.count_1[False]/num_articles:.2f}%')\n",
    "print(f'pandoc success rate for ABSTRACTS: {100*df_pandoc_abstract.count_1[True]/num_articles:.2f}%')"
   ]
  },
  {
   "cell_type": "markdown",
   "metadata": {},
   "source": [
    "So we definitely didn't do as well as with `detex`, but overall I'd say this looks pretty good."
   ]
  },
  {
   "cell_type": "markdown",
   "metadata": {},
   "source": [
    "## Make some plots here\n",
    "\n",
    "This is a bit tnagential to the task, but it's always an excellent idea to be intimately familiar with your data. Let's have a look at the history of submissions to `arXiv`. For example we can plot the number of submissions on any given day. "
   ]
  },
  {
   "cell_type": "code",
   "execution_count": 107,
   "metadata": {},
   "outputs": [],
   "source": [
    "session = Session()\n",
    "\n",
    "query = session.query(articles_pandoc.created, func.count(articles_pandoc.created))\n",
    "query = query.group_by(articles_pandoc.created) \n",
    "submissions_by_date = pd.read_sql(query.statement, query.session.bind)\n",
    "\n",
    "session.close()"
   ]
  },
  {
   "cell_type": "code",
   "execution_count": 108,
   "metadata": {},
   "outputs": [],
   "source": [
    "submissions_by_date.set_index('created', inplace=True)"
   ]
  },
  {
   "cell_type": "code",
   "execution_count": 121,
   "metadata": {
    "scrolled": false
   },
   "outputs": [
    {
     "data": {
      "text/plain": [
       "<matplotlib.axes._subplots.AxesSubplot at 0x7fdc5fd05f60>"
      ]
     },
     "execution_count": 121,
     "metadata": {},
     "output_type": "execute_result"
    },
    {
     "data": {
      "image/png": "[encoded data removed]",
      "text/plain": [
       "<Figure size 432x288 with 1 Axes>"
      ]
     },
     "metadata": {},
     "output_type": "display_data"
    }
   ],
   "source": [
    "plot_params = {\n",
    "    'kind':'line',\n",
    "    'legend':False\n",
    "}\n",
    "\n",
    "submissions_by_date.plot(**plot_params)"
   ]
  },
  {
   "cell_type": "markdown",
   "metadata": {},
   "source": [
    "## INTEERESTING!"
   ]
  },
  {
   "cell_type": "code",
   "execution_count": 117,
   "metadata": {},
   "outputs": [],
   "source": [
    "first, *tmp, last = submissions_by_date.index[:5]"
   ]
  },
  {
   "cell_type": "code",
   "execution_count": 118,
   "metadata": {},
   "outputs": [],
   "source": [
    "session = Session()\n",
    "\n",
    "query = session.query(articles_pandoc)\n",
    "query = query.filter(articles_pandoc.created <= last)\n",
    "early_submissions = pd.read_sql(query.statement, query.session.bind)\n",
    "\n",
    "session.close()"
   ]
  },
  {
   "cell_type": "code",
   "execution_count": 119,
   "metadata": {},
   "outputs": [
    {
     "data": {
      "text/html": [
       "<div>\n",
       "<style scoped>\n",
       "    .dataframe tbody tr th:only-of-type {\n",
       "        vertical-align: middle;\n",
       "    }\n",
       "\n",
       "    .dataframe tbody tr th {\n",
       "        vertical-align: top;\n",
       "    }\n",
       "\n",
       "    .dataframe thead th {\n",
       "        text-align: right;\n",
       "    }\n",
       "</style>\n",
       "<table border=\"1\" class=\"dataframe\">\n",
       "  <thead>\n",
       "    <tr style=\"text-align: right;\">\n",
       "      <th></th>\n",
       "      <th>id</th>\n",
       "      <th>created</th>\n",
       "      <th>setspec</th>\n",
       "      <th>title</th>\n",
       "      <th>title_converted</th>\n",
       "      <th>abstract</th>\n",
       "      <th>abstract_converted</th>\n",
       "    </tr>\n",
       "  </thead>\n",
       "  <tbody>\n",
       "    <tr>\n",
       "      <th>3</th>\n",
       "      <td>physics/9403001</td>\n",
       "      <td>1986-04-25</td>\n",
       "      <td>physics:hep-th</td>\n",
       "      <td>Desperately Seeking Superstrings\\n</td>\n",
       "      <td>True</td>\n",
       "      <td>We provide a detailed analysis of the problems...</td>\n",
       "      <td>True</td>\n",
       "    </tr>\n",
       "    <tr>\n",
       "      <th>2</th>\n",
       "      <td>hep-th/9108028</td>\n",
       "      <td>1988-11-11</td>\n",
       "      <td>physics:hep-th</td>\n",
       "      <td>Applied Conformal Field Theory\\n</td>\n",
       "      <td>True</td>\n",
       "      <td>These lectures consisted of an elementary intr...</td>\n",
       "      <td>True</td>\n",
       "    </tr>\n",
       "    <tr>\n",
       "      <th>6</th>\n",
       "      <td>math/9201239</td>\n",
       "      <td>1989-04-14</td>\n",
       "      <td>math</td>\n",
       "      <td>A note on canonical functions\\n</td>\n",
       "      <td>True</td>\n",
       "      <td>We construct a generic extension in which th...</td>\n",
       "      <td>False</td>\n",
       "    </tr>\n",
       "    <tr>\n",
       "      <th>0</th>\n",
       "      <td>math/9201203</td>\n",
       "      <td>1989-10-26</td>\n",
       "      <td>math</td>\n",
       "      <td>Convex bodies with few faces\\n</td>\n",
       "      <td>True</td>\n",
       "      <td>It is proved that if u₁, …, u_(n) are vectors ...</td>\n",
       "      <td>True</td>\n",
       "    </tr>\n",
       "    <tr>\n",
       "      <th>1</th>\n",
       "      <td>math/9201205</td>\n",
       "      <td>1989-10-26</td>\n",
       "      <td>math</td>\n",
       "      <td>Volume ratios and a reverse isoperimetric ineq...</td>\n",
       "      <td>True</td>\n",
       "      <td>It is shown that if C is an n-dimensional conv...</td>\n",
       "      <td>True</td>\n",
       "    </tr>\n",
       "    <tr>\n",
       "      <th>4</th>\n",
       "      <td>math/9201204</td>\n",
       "      <td>1989-10-26</td>\n",
       "      <td>math</td>\n",
       "      <td>Shadows of convex bodies\\n</td>\n",
       "      <td>True</td>\n",
       "      <td>It is proved that if C is a convex body in ${\\...</td>\n",
       "      <td>True</td>\n",
       "    </tr>\n",
       "    <tr>\n",
       "      <th>5</th>\n",
       "      <td>math/9201206</td>\n",
       "      <td>1989-11-09</td>\n",
       "      <td>math</td>\n",
       "      <td>On the volume of the intersection of two L_(p)...</td>\n",
       "      <td>True</td>\n",
       "      <td>This note deals with the following problem, th...</td>\n",
       "      <td>True</td>\n",
       "    </tr>\n",
       "  </tbody>\n",
       "</table>\n",
       "</div>"
      ],
      "text/plain": [
       "                id     created         setspec  \\\n",
       "3  physics/9403001  1986-04-25  physics:hep-th   \n",
       "2   hep-th/9108028  1988-11-11  physics:hep-th   \n",
       "6     math/9201239  1989-04-14            math   \n",
       "0     math/9201203  1989-10-26            math   \n",
       "1     math/9201205  1989-10-26            math   \n",
       "4     math/9201204  1989-10-26            math   \n",
       "5     math/9201206  1989-11-09            math   \n",
       "\n",
       "                                               title  title_converted  \\\n",
       "3                 Desperately Seeking Superstrings\\n             True   \n",
       "2                   Applied Conformal Field Theory\\n             True   \n",
       "6                    A note on canonical functions\\n             True   \n",
       "0                     Convex bodies with few faces\\n             True   \n",
       "1  Volume ratios and a reverse isoperimetric ineq...             True   \n",
       "4                         Shadows of convex bodies\\n             True   \n",
       "5  On the volume of the intersection of two L_(p)...             True   \n",
       "\n",
       "                                            abstract  abstract_converted  \n",
       "3  We provide a detailed analysis of the problems...                True  \n",
       "2  These lectures consisted of an elementary intr...                True  \n",
       "6    We construct a generic extension in which th...               False  \n",
       "0  It is proved that if u₁, …, u_(n) are vectors ...                True  \n",
       "1  It is shown that if C is an n-dimensional conv...                True  \n",
       "4  It is proved that if C is a convex body in ${\\...                True  \n",
       "5  This note deals with the following problem, th...                True  "
      ]
     },
     "execution_count": 119,
     "metadata": {},
     "output_type": "execute_result"
    }
   ],
   "source": [
    "early_submissions.sort_values(by='created')"
   ]
  },
  {
   "cell_type": "markdown",
   "metadata": {},
   "source": []
  },
  {
   "cell_type": "code",
   "execution_count": 124,
   "metadata": {
    "scrolled": true
   },
   "outputs": [
    {
     "data": {
      "text/plain": [
       "<matplotlib.axes._subplots.AxesSubplot at 0x7fdc5fc50588>"
      ]
     },
     "execution_count": 124,
     "metadata": {},
     "output_type": "execute_result"
    },
    {
     "data": {
      "image/png": "[encoded data removed]",
      "text/plain": [
       "<Figure size 432x288 with 1 Axes>"
      ]
     },
     "metadata": {},
     "output_type": "display_data"
    }
   ],
   "source": [
    "submissions_by_date[:1000].plot(kind='line')"
   ]
  },
  {
   "cell_type": "code",
   "execution_count": null,
   "metadata": {},
   "outputs": [],
   "source": []
  },
  {
   "cell_type": "markdown",
   "metadata": {},
   "source": [
    "## Submissions by Category"
   ]
  },
  {
   "cell_type": "code",
   "execution_count": 5,
   "metadata": {},
   "outputs": [],
   "source": [
    "session = Session()\n",
    "setspecs = set()\n",
    "for value in session.query(articles_pandoc.setspec).distinct():\n",
    "     setspecs.add(value)\n",
    "session.close()"
   ]
  },
  {
   "cell_type": "code",
   "execution_count": 6,
   "metadata": {},
   "outputs": [
    {
     "data": {
      "text/plain": [
       "{('cs'),\n",
       " ('econ'),\n",
       " ('eess'),\n",
       " ('math'),\n",
       " ('nlin'),\n",
       " ('physics:astro-ph'),\n",
       " ('physics:cond-mat'),\n",
       " ('physics:gr-qc'),\n",
       " ('physics:hep-ex'),\n",
       " ('physics:hep-lat'),\n",
       " ('physics:hep-ph'),\n",
       " ('physics:hep-th'),\n",
       " ('physics:nlin'),\n",
       " ('physics:nucl-ex'),\n",
       " ('physics:nucl-th'),\n",
       " ('physics:physics'),\n",
       " ('physics:quant-ph'),\n",
       " ('q-bio'),\n",
       " ('q-fin'),\n",
       " ('stat')}"
      ]
     },
     "execution_count": 6,
     "metadata": {},
     "output_type": "execute_result"
    }
   ],
   "source": [
    "setspecs"
   ]
  },
  {
   "cell_type": "code",
   "execution_count": 7,
   "metadata": {},
   "outputs": [],
   "source": [
    "session = Session()\n",
    "\n",
    "query = session.query(articles_pandoc.created, func.count(articles_pandoc.created))\n",
    "query = query.filter(articles_pandoc.setspec == 'math')\n",
    "query = query.group_by(articles_pandoc.created)\n",
    "math_submissions = pd.read_sql(query.statement, query.session.bind)\n",
    "\n",
    "session.close()"
   ]
  },
  {
   "cell_type": "code",
   "execution_count": 9,
   "metadata": {},
   "outputs": [],
   "source": [
    "math_submissions.set_index('created', inplace=True)"
   ]
  },
  {
   "cell_type": "code",
   "execution_count": 24,
   "metadata": {},
   "outputs": [
    {
     "data": {
      "text/plain": [
       "<matplotlib.axes._subplots.AxesSubplot at 0x7ffb6126f710>"
      ]
     },
     "execution_count": 24,
     "metadata": {},
     "output_type": "execute_result"
    },
    {
     "data": {
      "image/png": "[encoded data removed]",
      "text/plain": [
       "<Figure size 432x288 with 1 Axes>"
      ]
     },
     "metadata": {},
     "output_type": "display_data"
    }
   ],
   "source": [
    "math_submissions.plot(kind='line')"
   ]
  },
  {
   "cell_type": "code",
   "execution_count": null,
   "metadata": {},
   "outputs": [],
   "source": []
  },
  {
   "cell_type": "code",
   "execution_count": null,
   "metadata": {},
   "outputs": [],
   "source": []
  },
  {
   "cell_type": "code",
   "execution_count": null,
   "metadata": {},
   "outputs": [],
   "source": []
  },
  {
   "cell_type": "code",
   "execution_count": null,
   "metadata": {},
   "outputs": [],
   "source": []
  },
  {
   "cell_type": "code",
   "execution_count": null,
   "metadata": {},
   "outputs": [],
   "source": []
  }
 ],
 "metadata": {
  "kernelspec": {
   "display_name": "Python 3",
   "language": "python",
   "name": "python3"
  },
  "language_info": {
   "codemirror_mode": {
    "name": "ipython",
    "version": 3
   },
   "file_extension": ".py",
   "mimetype": "text/x-python",
   "name": "python",
   "nbconvert_exporter": "python",
   "pygments_lexer": "ipython3",
   "version": "3.6.5"
  }
 },
 "nbformat": 4,
 "nbformat_minor": 2
}
