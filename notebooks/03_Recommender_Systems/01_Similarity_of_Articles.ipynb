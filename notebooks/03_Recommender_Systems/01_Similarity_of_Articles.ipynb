{
 "cells": [
  {
   "cell_type": "markdown",
   "metadata": {},
   "source": [
    "# Similarity of documents\n",
    "\n",
    "We'll store the documents locally and put recommendations in the postgres server for easier access with the app."
   ]
  },
  {
   "cell_type": "markdown",
   "metadata": {},
   "source": [
    "## Prep the data for computation"
   ]
  },
  {
   "cell_type": "code",
   "execution_count": 1,
   "metadata": {},
   "outputs": [],
   "source": [
    "import numpy as np\n",
    "import json\n",
    "import pickle\n",
    "import csv"
   ]
  },
  {
   "cell_type": "code",
   "execution_count": 2,
   "metadata": {},
   "outputs": [],
   "source": [
    "def split_vectors_ids(vectors_file='../../vectors/arxiv_vectors.csv',\n",
    "             id_json='../../vectors/id.json',\n",
    "             vectors_pkl='../../vectors/vectors.pkl',\n",
    "            ):\n",
    "    \"\"\"\n",
    "    Takes in the total csv of vectors for \n",
    "    the articles, indexed by arxiv_id and \n",
    "    transforms them into a list of ids\n",
    "    and array of vectors. Then the array is \n",
    "    pickled and the ids list is stored as \n",
    "    a json.\n",
    "    \"\"\"\n",
    "    \n",
    "    ids = []\n",
    "    vectors = []\n",
    "    \n",
    "    with open(vectors_file, 'r', newline='') as vectors_csv:\n",
    "        vectors_reader = csv.reader(vectors_csv)\n",
    "        for id, *vector in vectors_reader:\n",
    "            ids.append(id)\n",
    "            vector = np.array([float(component) for component in vector])\n",
    "            vectors.append(vector)\n",
    "    \n",
    "    with open(id_json, 'w') as json_file:\n",
    "        json.dump(ids, json_file)\n",
    "    \n",
    "    vectors = np.array(vectors)\n",
    "    vectors = normalize_rows(vectors)\n",
    "    \n",
    "    with open(vectors_pkl, 'bw') as pkl_file:\n",
    "        pickle.dump(vectors, pkl_file)"
   ]
  },
  {
   "cell_type": "code",
   "execution_count": 3,
   "metadata": {},
   "outputs": [],
   "source": [
    "# split_vectors_ids()"
   ]
  },
  {
   "cell_type": "code",
   "execution_count": 4,
   "metadata": {},
   "outputs": [],
   "source": [
    "with open('../../vectors/vectors.pkl', 'rb') as vec_pkl:\n",
    "    vectors = pickle.load(vec_pkl)\n",
    "    \n",
    "with open('../../vectors/id.json', 'r') as ids_json:\n",
    "    ids = json.load(ids_json)"
   ]
  },
  {
   "cell_type": "markdown",
   "metadata": {},
   "source": [
    "## Computing the Scores"
   ]
  },
  {
   "cell_type": "code",
   "execution_count": 5,
   "metadata": {},
   "outputs": [],
   "source": [
    "def score(vectors, all_ids, id_low, id_high):\n",
    "    \"\"\"\n",
    "    Outputs an array, scores. The columns of scores \n",
    "    are correspond to the slice of article_ids \n",
    "    \n",
    "    all_id[id_low:id_high]\n",
    "    \n",
    "    The rows are indexed by all_ids.\n",
    "    \n",
    "    The value in column C and row R is the \n",
    "    similarity between the articles all_ids[R]\n",
    "    and all_ids[id_low+C].\n",
    "    \"\"\"\n",
    "    mask = [id_low <= index < id_high for index, _ in enumerate(all_ids)]\n",
    "    rows = vectors[mask]\n",
    "    scores = vectors @ rows.T\n",
    "    return scores"
   ]
  },
  {
   "cell_type": "code",
   "execution_count": 6,
   "metadata": {},
   "outputs": [],
   "source": [
    "def sort_scores(scores, all_ids, cur_ids):\n",
    "    \"\"\"\n",
    "    Returns a dictionary of lists. The keys are the ids \n",
    "    of articles we're currently evaluating.\n",
    "    \n",
    "    The lists contain tuples of scores and ids. The \n",
    "    score is the similarity score between the current article\n",
    "    and the other component of the tuple.\n",
    "    \"\"\"\n",
    "    recs = {}\n",
    "    for col_num, col in enumerate(scores.T):\n",
    "        article_id = cur_ids[col_num]\n",
    "        recs[article_id] = list(zip(col, ids))\n",
    "        recs[article_id].sort(key=lambda x: x[0], reverse=True)\n",
    "        recs[article_id] = recs[article_id][:51]\n",
    "    return recs"
   ]
  },
  {
   "cell_type": "code",
   "execution_count": 7,
   "metadata": {
    "scrolled": true
   },
   "outputs": [],
   "source": [
    "def compute_recs_paper_id(arxiv_id, ids, vectors):\n",
    "    \"\"\"\n",
    "    Takes the list of id_number in question, \n",
    "    the list of all ids, and array of vectors\n",
    "    and returns a dictionary whose key is the arxiv_id\n",
    "    and values a list of the recommended articles and scores  \n",
    "    \"\"\"\n",
    "    \n",
    "    id_num = ids.index(arxiv_id)\n",
    "    scored = score(vectors, ids, id_num, id_num+1)\n",
    "    recs = sort_scores(scored, ids, ids[id_num:id_num+1])\n",
    "    return recs"
   ]
  },
  {
   "cell_type": "code",
   "execution_count": 8,
   "metadata": {
    "scrolled": true
   },
   "outputs": [
    {
     "name": "stdout",
     "output_type": "stream",
     "text": [
      "CPU times: user 2.94 s, sys: 0 ns, total: 2.94 s\n",
      "Wall time: 2.65 s\n"
     ]
    }
   ],
   "source": [
    "%time recs = compute_recs_paper_id('1801.08262', ids, vectors)"
   ]
  },
  {
   "cell_type": "code",
   "execution_count": 9,
   "metadata": {
    "scrolled": true
   },
   "outputs": [
    {
     "data": {
      "text/plain": [
       "51"
      ]
     },
     "execution_count": 9,
     "metadata": {},
     "output_type": "execute_result"
    }
   ],
   "source": [
    "len(recs['1801.08262'])"
   ]
  },
  {
   "cell_type": "code",
   "execution_count": 10,
   "metadata": {},
   "outputs": [
    {
     "data": {
      "text/plain": [
       "[(1.0000000000000002, '1801.08262'),\n",
       " (0.96994439808605737, '1212.2697'),\n",
       " (0.9675059791477697, '1410.0230'),\n",
       " (0.96315506293288022, '1611.03840'),\n",
       " (0.96170088971694145, '1705.00164')]"
      ]
     },
     "execution_count": 10,
     "metadata": {},
     "output_type": "execute_result"
    }
   ],
   "source": [
    "recs['1801.08262'][:5]"
   ]
  },
  {
   "cell_type": "markdown",
   "metadata": {},
   "source": [
    "### Interacting with SQL\n",
    "\n",
    "We'll define some functions that allow us to store the recommendations in a database so we don't have to compute them again when they're requested by the flask app. In particular the flask app should be able to perform two specific operations with the database.\n",
    "\n",
    "1. We should be able to retrieve check if a record exists in the table, and if it does render something for the user.\n",
    "2. If there is not matching record in the table, we can update the table and then service the user."
   ]
  },
  {
   "cell_type": "code",
   "execution_count": 11,
   "metadata": {},
   "outputs": [],
   "source": [
    "from sqlalchemy_arxiv import Session, articles_similar"
   ]
  },
  {
   "cell_type": "code",
   "execution_count": 12,
   "metadata": {},
   "outputs": [],
   "source": [
    "def send_to_server(arxiv_id, recs, table_class, session):\n",
    "    \"\"\"\n",
    "    Sends computed recommendations to the the database\n",
    "    \"\"\"\n",
    "    new_recs = [{'id':key,'recs':value} for key, value in recs.items()]\n",
    "    new_recs = [table_class(**args) for args in new_recs]\n",
    "    session.add_all(new_recs)\n",
    "    session.commit()"
   ]
  },
  {
   "cell_type": "markdown",
   "metadata": {},
   "source": [
    "Send the new recommendations to the server."
   ]
  },
  {
   "cell_type": "code",
   "execution_count": 14,
   "metadata": {},
   "outputs": [],
   "source": [
    "session = Session()\n",
    "send_to_server('1801.08262', recs, articles_similar, session)\n",
    "session.close()"
   ]
  },
  {
   "cell_type": "markdown",
   "metadata": {},
   "source": [
    "Get the records back from the server."
   ]
  },
  {
   "cell_type": "code",
   "execution_count": 15,
   "metadata": {},
   "outputs": [],
   "source": [
    "def request_recs(id_request, table_class_recs, session):\n",
    "    \"\"\"\n",
    "    Retrieves computed recommendations to the the database\n",
    "    \"\"\"\n",
    "    query = (session\n",
    "             .query(table_class_recs)\n",
    "             .filter(table_class_recs.id==id_request)\n",
    "            )\n",
    "    records = query.all()\n",
    "    if records:\n",
    "        return records\n"
   ]
  },
  {
   "cell_type": "code",
   "execution_count": 16,
   "metadata": {},
   "outputs": [],
   "source": [
    "session = Session()\n",
    "recs_ = request_recs('1801.08262', articles_similar, session)\n",
    "session.close()"
   ]
  },
  {
   "cell_type": "code",
   "execution_count": 30,
   "metadata": {},
   "outputs": [
    {
     "data": {
      "text/plain": [
       "[[1.0000000000000002, '1801.08262'],\n",
       " [0.9699443980860574, '1212.2697'],\n",
       " [0.9675059791477697, '1410.0230'],\n",
       " [0.9631550629328802, '1611.03840'],\n",
       " [0.9617008897169415, '1705.00164']]"
      ]
     },
     "execution_count": 30,
     "metadata": {},
     "output_type": "execute_result"
    }
   ],
   "source": [
    "recs_[0].recs[:5]"
   ]
  }
 ],
 "metadata": {
  "kernelspec": {
   "display_name": "Python 3",
   "language": "python",
   "name": "python3"
  },
  "language_info": {
   "codemirror_mode": {
    "name": "ipython",
    "version": 3
   },
   "file_extension": ".py",
   "mimetype": "text/x-python",
   "name": "python",
   "nbconvert_exporter": "python",
   "pygments_lexer": "ipython3",
   "version": "3.6.5"
  }
 },
 "nbformat": 4,
 "nbformat_minor": 2
}
